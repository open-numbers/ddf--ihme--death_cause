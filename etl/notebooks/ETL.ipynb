{
 "cells": [
  {
   "cell_type": "code",
   "execution_count": 1,
   "metadata": {},
   "outputs": [
    {
     "name": "stderr",
     "output_type": "stream",
     "text": [
      "/Users/semio/.pyenv/versions/3.6.2/lib/python3.6/importlib/_bootstrap.py:205: RuntimeWarning: numpy.dtype size changed, may indicate binary incompatibility. Expected 96, got 88\n",
      "  return f(*args, **kwds)\n"
     ]
    }
   ],
   "source": [
    "import os\n",
    "import os.path as osp\n",
    "import pandas as pd\n",
    "\n",
    "from ddf_utils.str import to_concept_id, format_float_digits\n",
    "from ddf_utils.factory import ihme"
   ]
  },
  {
   "cell_type": "code",
   "execution_count": 2,
   "metadata": {},
   "outputs": [],
   "source": [
    "from functools import partial"
   ]
  },
  {
   "cell_type": "code",
   "execution_count": 3,
   "metadata": {},
   "outputs": [],
   "source": [
    "import dask.dataframe as dd"
   ]
  },
  {
   "cell_type": "code",
   "execution_count": 4,
   "metadata": {},
   "outputs": [],
   "source": [
    "from zipfile import ZipFile"
   ]
  },
  {
   "cell_type": "markdown",
   "metadata": {},
   "source": [
    "# TODOs\n",
    "\n",
    "- fix float format"
   ]
  },
  {
   "cell_type": "code",
   "execution_count": 5,
   "metadata": {},
   "outputs": [],
   "source": [
    "# metadata\n",
    "md = ihme.load_metadata()"
   ]
  },
  {
   "cell_type": "code",
   "execution_count": 6,
   "metadata": {},
   "outputs": [
    {
     "data": {
      "text/plain": [
       "dict_keys(['age', 'cause', 'groups', 'location', 'measure', 'metric', 'rei', 'sequela', 'sex', 'year', 'year_range', 'version'])"
      ]
     },
     "execution_count": 6,
     "metadata": {},
     "output_type": "execute_result"
    }
   ],
   "source": [
    "md.keys()"
   ]
  },
  {
   "cell_type": "code",
   "execution_count": 7,
   "metadata": {},
   "outputs": [
    {
     "data": {
      "text/html": [
       "<div>\n",
       "<style scoped>\n",
       "    .dataframe tbody tr th:only-of-type {\n",
       "        vertical-align: middle;\n",
       "    }\n",
       "\n",
       "    .dataframe tbody tr th {\n",
       "        vertical-align: top;\n",
       "    }\n",
       "\n",
       "    .dataframe thead th {\n",
       "        text-align: right;\n",
       "    }\n",
       "</style>\n",
       "<table border=\"1\" class=\"dataframe\">\n",
       "  <thead>\n",
       "    <tr style=\"text-align: right;\">\n",
       "      <th></th>\n",
       "      <th>measure_id</th>\n",
       "      <th>sort</th>\n",
       "      <th>name</th>\n",
       "      <th>short_name</th>\n",
       "    </tr>\n",
       "  </thead>\n",
       "  <tbody>\n",
       "    <tr>\n",
       "      <th>1</th>\n",
       "      <td>1</td>\n",
       "      <td>1</td>\n",
       "      <td>Deaths</td>\n",
       "      <td>Deaths</td>\n",
       "    </tr>\n",
       "    <tr>\n",
       "      <th>2</th>\n",
       "      <td>2</td>\n",
       "      <td>4</td>\n",
       "      <td>DALYs (Disability-Adjusted Life Years)</td>\n",
       "      <td>DALYs</td>\n",
       "    </tr>\n",
       "    <tr>\n",
       "      <th>25</th>\n",
       "      <td>25</td>\n",
       "      <td>26</td>\n",
       "      <td>Maternal mortality ratio</td>\n",
       "      <td>MMR</td>\n",
       "    </tr>\n",
       "    <tr>\n",
       "      <th>26</th>\n",
       "      <td>26</td>\n",
       "      <td>28</td>\n",
       "      <td>Life expectancy</td>\n",
       "      <td>LE</td>\n",
       "    </tr>\n",
       "    <tr>\n",
       "      <th>27</th>\n",
       "      <td>27</td>\n",
       "      <td>27</td>\n",
       "      <td>Probability of death</td>\n",
       "      <td>PoD</td>\n",
       "    </tr>\n",
       "    <tr>\n",
       "      <th>28</th>\n",
       "      <td>28</td>\n",
       "      <td>29</td>\n",
       "      <td>HALE (Healthy life expectancy)</td>\n",
       "      <td>HALE</td>\n",
       "    </tr>\n",
       "    <tr>\n",
       "      <th>29</th>\n",
       "      <td>29</td>\n",
       "      <td>21</td>\n",
       "      <td>Summary exposure value</td>\n",
       "      <td>SEV</td>\n",
       "    </tr>\n",
       "    <tr>\n",
       "      <th>3</th>\n",
       "      <td>3</td>\n",
       "      <td>3</td>\n",
       "      <td>YLDs (Years Lived with Disability)</td>\n",
       "      <td>YLDs</td>\n",
       "    </tr>\n",
       "    <tr>\n",
       "      <th>4</th>\n",
       "      <td>4</td>\n",
       "      <td>2</td>\n",
       "      <td>YLLs (Years of Life Lost)</td>\n",
       "      <td>YLLs</td>\n",
       "    </tr>\n",
       "    <tr>\n",
       "      <th>43</th>\n",
       "      <td>43</td>\n",
       "      <td>43</td>\n",
       "      <td>HAQ Index (Healthcare Access and Quality Index)</td>\n",
       "      <td>haq_index</td>\n",
       "    </tr>\n",
       "    <tr>\n",
       "      <th>5</th>\n",
       "      <td>5</td>\n",
       "      <td>5</td>\n",
       "      <td>Prevalence</td>\n",
       "      <td>Prevalence</td>\n",
       "    </tr>\n",
       "    <tr>\n",
       "      <th>6</th>\n",
       "      <td>6</td>\n",
       "      <td>6</td>\n",
       "      <td>Incidence</td>\n",
       "      <td>Incidence</td>\n",
       "    </tr>\n",
       "  </tbody>\n",
       "</table>\n",
       "</div>"
      ],
      "text/plain": [
       "    measure_id  sort                                             name  \\\n",
       "1            1     1                                           Deaths   \n",
       "2            2     4           DALYs (Disability-Adjusted Life Years)   \n",
       "25          25    26                         Maternal mortality ratio   \n",
       "26          26    28                                  Life expectancy   \n",
       "27          27    27                             Probability of death   \n",
       "28          28    29                   HALE (Healthy life expectancy)   \n",
       "29          29    21                           Summary exposure value   \n",
       "3            3     3               YLDs (Years Lived with Disability)   \n",
       "4            4     2                        YLLs (Years of Life Lost)   \n",
       "43          43    43  HAQ Index (Healthcare Access and Quality Index)   \n",
       "5            5     5                                       Prevalence   \n",
       "6            6     6                                        Incidence   \n",
       "\n",
       "    short_name  \n",
       "1       Deaths  \n",
       "2        DALYs  \n",
       "25         MMR  \n",
       "26          LE  \n",
       "27         PoD  \n",
       "28        HALE  \n",
       "29         SEV  \n",
       "3         YLDs  \n",
       "4         YLLs  \n",
       "43   haq_index  \n",
       "5   Prevalence  \n",
       "6    Incidence  "
      ]
     },
     "execution_count": 7,
     "metadata": {},
     "output_type": "execute_result"
    }
   ],
   "source": [
    "md['measure']"
   ]
  },
  {
   "cell_type": "code",
   "execution_count": null,
   "metadata": {},
   "outputs": [],
   "source": []
  },
  {
   "cell_type": "code",
   "execution_count": 30,
   "metadata": {},
   "outputs": [
    {
     "data": {
      "text/html": [
       "<div>\n",
       "<style scoped>\n",
       "    .dataframe tbody tr th:only-of-type {\n",
       "        vertical-align: middle;\n",
       "    }\n",
       "\n",
       "    .dataframe tbody tr th {\n",
       "        vertical-align: top;\n",
       "    }\n",
       "\n",
       "    .dataframe thead th {\n",
       "        text-align: right;\n",
       "    }\n",
       "</style>\n",
       "<table border=\"1\" class=\"dataframe\">\n",
       "  <thead>\n",
       "    <tr style=\"text-align: right;\">\n",
       "      <th></th>\n",
       "      <th>location_id</th>\n",
       "      <th>type</th>\n",
       "      <th>name</th>\n",
       "      <th>medium_name</th>\n",
       "      <th>short_name</th>\n",
       "      <th>enabled</th>\n",
       "    </tr>\n",
       "  </thead>\n",
       "  <tbody>\n",
       "    <tr>\n",
       "      <th>1</th>\n",
       "      <td>1</td>\n",
       "      <td>NaN</td>\n",
       "      <td>Global</td>\n",
       "      <td>Global</td>\n",
       "      <td>Earth</td>\n",
       "      <td>NaN</td>\n",
       "    </tr>\n",
       "    <tr>\n",
       "      <th>10</th>\n",
       "      <td>10</td>\n",
       "      <td>NaN</td>\n",
       "      <td>Cambodia</td>\n",
       "      <td>Cambodia</td>\n",
       "      <td>Cambodia</td>\n",
       "      <td>NaN</td>\n",
       "    </tr>\n",
       "    <tr>\n",
       "      <th>100</th>\n",
       "      <td>100</td>\n",
       "      <td>NaN</td>\n",
       "      <td>High-income North America</td>\n",
       "      <td>High-income North America</td>\n",
       "      <td>HI N Am</td>\n",
       "      <td>NaN</td>\n",
       "    </tr>\n",
       "    <tr>\n",
       "      <th>101</th>\n",
       "      <td>101</td>\n",
       "      <td>NaN</td>\n",
       "      <td>Canada</td>\n",
       "      <td>Canada</td>\n",
       "      <td>Canada</td>\n",
       "      <td>NaN</td>\n",
       "    </tr>\n",
       "    <tr>\n",
       "      <th>102</th>\n",
       "      <td>102</td>\n",
       "      <td>NaN</td>\n",
       "      <td>United States</td>\n",
       "      <td>United States</td>\n",
       "      <td>USA</td>\n",
       "      <td>NaN</td>\n",
       "    </tr>\n",
       "  </tbody>\n",
       "</table>\n",
       "</div>"
      ],
      "text/plain": [
       "    location_id type                       name                medium_name  \\\n",
       "1             1  NaN                     Global                     Global   \n",
       "10           10  NaN                   Cambodia                   Cambodia   \n",
       "100         100  NaN  High-income North America  High-income North America   \n",
       "101         101  NaN                     Canada                     Canada   \n",
       "102         102  NaN              United States              United States   \n",
       "\n",
       "    short_name enabled  \n",
       "1        Earth     NaN  \n",
       "10    Cambodia     NaN  \n",
       "100    HI N Am     NaN  \n",
       "101     Canada     NaN  \n",
       "102        USA     NaN  "
      ]
     },
     "execution_count": 30,
     "metadata": {},
     "output_type": "execute_result"
    }
   ],
   "source": [
    "md['location'].head()"
   ]
  },
  {
   "cell_type": "code",
   "execution_count": 6,
   "metadata": {},
   "outputs": [
    {
     "data": {
      "text/html": [
       "<div>\n",
       "<style scoped>\n",
       "    .dataframe tbody tr th:only-of-type {\n",
       "        vertical-align: middle;\n",
       "    }\n",
       "\n",
       "    .dataframe tbody tr th {\n",
       "        vertical-align: top;\n",
       "    }\n",
       "\n",
       "    .dataframe thead th {\n",
       "        text-align: right;\n",
       "    }\n",
       "</style>\n",
       "<table border=\"1\" class=\"dataframe\">\n",
       "  <thead>\n",
       "    <tr style=\"text-align: right;\">\n",
       "      <th></th>\n",
       "      <th>measure_id</th>\n",
       "      <th>sort</th>\n",
       "      <th>name</th>\n",
       "      <th>short_name</th>\n",
       "    </tr>\n",
       "  </thead>\n",
       "  <tbody>\n",
       "    <tr>\n",
       "      <th>1</th>\n",
       "      <td>1</td>\n",
       "      <td>1</td>\n",
       "      <td>Deaths</td>\n",
       "      <td>Deaths</td>\n",
       "    </tr>\n",
       "    <tr>\n",
       "      <th>2</th>\n",
       "      <td>2</td>\n",
       "      <td>4</td>\n",
       "      <td>DALYs (Disability-Adjusted Life Years)</td>\n",
       "      <td>DALYs</td>\n",
       "    </tr>\n",
       "    <tr>\n",
       "      <th>25</th>\n",
       "      <td>25</td>\n",
       "      <td>26</td>\n",
       "      <td>Maternal mortality ratio</td>\n",
       "      <td>MMR</td>\n",
       "    </tr>\n",
       "    <tr>\n",
       "      <th>26</th>\n",
       "      <td>26</td>\n",
       "      <td>28</td>\n",
       "      <td>Life expectancy</td>\n",
       "      <td>LE</td>\n",
       "    </tr>\n",
       "    <tr>\n",
       "      <th>27</th>\n",
       "      <td>27</td>\n",
       "      <td>27</td>\n",
       "      <td>Probability of death</td>\n",
       "      <td>PoD</td>\n",
       "    </tr>\n",
       "    <tr>\n",
       "      <th>28</th>\n",
       "      <td>28</td>\n",
       "      <td>29</td>\n",
       "      <td>HALE (Healthy life expectancy)</td>\n",
       "      <td>HALE</td>\n",
       "    </tr>\n",
       "    <tr>\n",
       "      <th>29</th>\n",
       "      <td>29</td>\n",
       "      <td>21</td>\n",
       "      <td>Summary exposure value</td>\n",
       "      <td>SEV</td>\n",
       "    </tr>\n",
       "    <tr>\n",
       "      <th>3</th>\n",
       "      <td>3</td>\n",
       "      <td>3</td>\n",
       "      <td>YLDs (Years Lived with Disability)</td>\n",
       "      <td>YLDs</td>\n",
       "    </tr>\n",
       "    <tr>\n",
       "      <th>4</th>\n",
       "      <td>4</td>\n",
       "      <td>2</td>\n",
       "      <td>YLLs (Years of Life Lost)</td>\n",
       "      <td>YLLs</td>\n",
       "    </tr>\n",
       "    <tr>\n",
       "      <th>43</th>\n",
       "      <td>43</td>\n",
       "      <td>43</td>\n",
       "      <td>HAQ Index (Healthcare Access and Quality Index)</td>\n",
       "      <td>haq_index</td>\n",
       "    </tr>\n",
       "    <tr>\n",
       "      <th>5</th>\n",
       "      <td>5</td>\n",
       "      <td>5</td>\n",
       "      <td>Prevalence</td>\n",
       "      <td>Prevalence</td>\n",
       "    </tr>\n",
       "    <tr>\n",
       "      <th>6</th>\n",
       "      <td>6</td>\n",
       "      <td>6</td>\n",
       "      <td>Incidence</td>\n",
       "      <td>Incidence</td>\n",
       "    </tr>\n",
       "  </tbody>\n",
       "</table>\n",
       "</div>"
      ],
      "text/plain": [
       "    measure_id  sort                                             name  \\\n",
       "1            1     1                                           Deaths   \n",
       "2            2     4           DALYs (Disability-Adjusted Life Years)   \n",
       "25          25    26                         Maternal mortality ratio   \n",
       "26          26    28                                  Life expectancy   \n",
       "27          27    27                             Probability of death   \n",
       "28          28    29                   HALE (Healthy life expectancy)   \n",
       "29          29    21                           Summary exposure value   \n",
       "3            3     3               YLDs (Years Lived with Disability)   \n",
       "4            4     2                        YLLs (Years of Life Lost)   \n",
       "43          43    43  HAQ Index (Healthcare Access and Quality Index)   \n",
       "5            5     5                                       Prevalence   \n",
       "6            6     6                                        Incidence   \n",
       "\n",
       "    short_name  \n",
       "1       Deaths  \n",
       "2        DALYs  \n",
       "25         MMR  \n",
       "26          LE  \n",
       "27         PoD  \n",
       "28        HALE  \n",
       "29         SEV  \n",
       "3         YLDs  \n",
       "4         YLLs  \n",
       "43   haq_index  \n",
       "5   Prevalence  \n",
       "6    Incidence  "
      ]
     },
     "execution_count": 6,
     "metadata": {},
     "output_type": "execute_result"
    }
   ],
   "source": [
    "md['measure']"
   ]
  },
  {
   "cell_type": "code",
   "execution_count": 50,
   "metadata": {},
   "outputs": [
    {
     "data": {
      "text/html": [
       "<div>\n",
       "<style scoped>\n",
       "    .dataframe tbody tr th:only-of-type {\n",
       "        vertical-align: middle;\n",
       "    }\n",
       "\n",
       "    .dataframe tbody tr th {\n",
       "        vertical-align: top;\n",
       "    }\n",
       "\n",
       "    .dataframe thead th {\n",
       "        text-align: right;\n",
       "    }\n",
       "</style>\n",
       "<table border=\"1\" class=\"dataframe\">\n",
       "  <thead>\n",
       "    <tr style=\"text-align: right;\">\n",
       "      <th></th>\n",
       "      <th>metric_id</th>\n",
       "      <th>name</th>\n",
       "      <th>short_name</th>\n",
       "    </tr>\n",
       "  </thead>\n",
       "  <tbody>\n",
       "    <tr>\n",
       "      <th>1</th>\n",
       "      <td>1</td>\n",
       "      <td>Number</td>\n",
       "      <td>#</td>\n",
       "    </tr>\n",
       "    <tr>\n",
       "      <th>2</th>\n",
       "      <td>2</td>\n",
       "      <td>Percent</td>\n",
       "      <td>%</td>\n",
       "    </tr>\n",
       "    <tr>\n",
       "      <th>3</th>\n",
       "      <td>3</td>\n",
       "      <td>Rate</td>\n",
       "      <td>Rate</td>\n",
       "    </tr>\n",
       "    <tr>\n",
       "      <th>5</th>\n",
       "      <td>5</td>\n",
       "      <td>Years</td>\n",
       "      <td>Years</td>\n",
       "    </tr>\n",
       "    <tr>\n",
       "      <th>8</th>\n",
       "      <td>8</td>\n",
       "      <td>Probability of death</td>\n",
       "      <td>Probability of death</td>\n",
       "    </tr>\n",
       "  </tbody>\n",
       "</table>\n",
       "</div>"
      ],
      "text/plain": [
       "   metric_id                  name            short_name\n",
       "1          1                Number                     #\n",
       "2          2               Percent                     %\n",
       "3          3                  Rate                  Rate\n",
       "5          5                 Years                 Years\n",
       "8          8  Probability of death  Probability of death"
      ]
     },
     "execution_count": 50,
     "metadata": {},
     "output_type": "execute_result"
    }
   ],
   "source": [
    "md['metric'].head()"
   ]
  },
  {
   "cell_type": "code",
   "execution_count": null,
   "metadata": {},
   "outputs": [],
   "source": []
  },
  {
   "cell_type": "code",
   "execution_count": 16,
   "metadata": {},
   "outputs": [
    {
     "data": {
      "text/plain": [
       "(46, 6)"
      ]
     },
     "execution_count": 16,
     "metadata": {},
     "output_type": "execute_result"
    }
   ],
   "source": [
    "md['age'].shape"
   ]
  },
  {
   "cell_type": "code",
   "execution_count": 20,
   "metadata": {},
   "outputs": [
    {
     "data": {
      "text/plain": [
       "(25, 6)"
      ]
     },
     "execution_count": 20,
     "metadata": {},
     "output_type": "execute_result"
    }
   ],
   "source": [
    "md['age'].query(\"type == 'specific'\").shape"
   ]
  },
  {
   "cell_type": "code",
   "execution_count": 74,
   "metadata": {},
   "outputs": [],
   "source": [
    "ages = md['age'].query(\"type == 'specific'\").age_id.values.tolist()"
   ]
  },
  {
   "cell_type": "code",
   "execution_count": 75,
   "metadata": {},
   "outputs": [],
   "source": [
    "ages.append(22)  # All Age\n",
    "ages.append(27)  # Age-standardized"
   ]
  },
  {
   "cell_type": "code",
   "execution_count": 68,
   "metadata": {},
   "outputs": [
    {
     "data": {
      "text/plain": [
       "26"
      ]
     },
     "execution_count": 68,
     "metadata": {},
     "output_type": "execute_result"
    }
   ],
   "source": [
    "len(ages)"
   ]
  },
  {
   "cell_type": "code",
   "execution_count": 76,
   "metadata": {},
   "outputs": [
    {
     "name": "stdout",
     "output_type": "stream",
     "text": [
      "10, 11, 12, 13, 14, 15, 155, 16, 162, 17, 18, 19, 2, 20, 21, 3, 30, 31, 32, 4, 5, 6, 7, 8, 9, 22, 27, "
     ]
    }
   ],
   "source": [
    "for i in ages:\n",
    "    print(i, end=', ')"
   ]
  },
  {
   "cell_type": "code",
   "execution_count": null,
   "metadata": {},
   "outputs": [],
   "source": []
  },
  {
   "cell_type": "code",
   "execution_count": null,
   "metadata": {},
   "outputs": [],
   "source": []
  },
  {
   "cell_type": "code",
   "execution_count": 29,
   "metadata": {},
   "outputs": [],
   "source": [
    "source_dir = '../source/cause/mmr_cause_ageall/'"
   ]
  },
  {
   "cell_type": "code",
   "execution_count": 30,
   "metadata": {},
   "outputs": [
    {
     "name": "stdout",
     "output_type": "stream",
     "text": [
      "IHME-GBD_2016_DATA-39c08057-1.zip\r\n"
     ]
    }
   ],
   "source": [
    "!ls $source_dir | head"
   ]
  },
  {
   "cell_type": "code",
   "execution_count": 7,
   "metadata": {},
   "outputs": [],
   "source": [
    "n = \"IHME-GBD_2016_DATA-0f5cd7a0-1.zip\"\n",
    "f = osp.join(source_dir, n)"
   ]
  },
  {
   "cell_type": "code",
   "execution_count": 8,
   "metadata": {},
   "outputs": [],
   "source": [
    "zf = ZipFile(f)"
   ]
  },
  {
   "cell_type": "code",
   "execution_count": 9,
   "metadata": {},
   "outputs": [],
   "source": [
    "fname = osp.splitext(n)[0]"
   ]
  },
  {
   "cell_type": "code",
   "execution_count": 10,
   "metadata": {},
   "outputs": [
    {
     "data": {
      "text/plain": [
       "'IHME-GBD_2016_DATA-0f5cd7a0-1.csv'"
      ]
     },
     "execution_count": 10,
     "metadata": {},
     "output_type": "execute_result"
    }
   ],
   "source": [
    "fname + '.csv'"
   ]
  },
  {
   "cell_type": "code",
   "execution_count": 11,
   "metadata": {},
   "outputs": [],
   "source": [
    "data = pd.read_csv(zf.open(fname + '.csv'))"
   ]
  },
  {
   "cell_type": "code",
   "execution_count": 12,
   "metadata": {},
   "outputs": [
    {
     "data": {
      "text/html": [
       "<div>\n",
       "<style scoped>\n",
       "    .dataframe tbody tr th:only-of-type {\n",
       "        vertical-align: middle;\n",
       "    }\n",
       "\n",
       "    .dataframe tbody tr th {\n",
       "        vertical-align: top;\n",
       "    }\n",
       "\n",
       "    .dataframe thead th {\n",
       "        text-align: right;\n",
       "    }\n",
       "</style>\n",
       "<table border=\"1\" class=\"dataframe\">\n",
       "  <thead>\n",
       "    <tr style=\"text-align: right;\">\n",
       "      <th></th>\n",
       "      <th>measure</th>\n",
       "      <th>location</th>\n",
       "      <th>sex</th>\n",
       "      <th>age</th>\n",
       "      <th>cause</th>\n",
       "      <th>metric</th>\n",
       "      <th>year</th>\n",
       "      <th>val</th>\n",
       "      <th>upper</th>\n",
       "      <th>lower</th>\n",
       "    </tr>\n",
       "  </thead>\n",
       "  <tbody>\n",
       "    <tr>\n",
       "      <th>970795</th>\n",
       "      <td>1</td>\n",
       "      <td>101</td>\n",
       "      <td>2</td>\n",
       "      <td>22</td>\n",
       "      <td>491</td>\n",
       "      <td>1</td>\n",
       "      <td>1991</td>\n",
       "      <td>36428.509094</td>\n",
       "      <td>37814.720550</td>\n",
       "      <td>35209.925507</td>\n",
       "    </tr>\n",
       "    <tr>\n",
       "      <th>394360</th>\n",
       "      <td>1</td>\n",
       "      <td>129</td>\n",
       "      <td>1</td>\n",
       "      <td>30</td>\n",
       "      <td>468</td>\n",
       "      <td>1</td>\n",
       "      <td>1991</td>\n",
       "      <td>0.026046</td>\n",
       "      <td>0.045314</td>\n",
       "      <td>0.014452</td>\n",
       "    </tr>\n",
       "    <tr>\n",
       "      <th>569090</th>\n",
       "      <td>1</td>\n",
       "      <td>170</td>\n",
       "      <td>3</td>\n",
       "      <td>235</td>\n",
       "      <td>618</td>\n",
       "      <td>1</td>\n",
       "      <td>1990</td>\n",
       "      <td>0.090584</td>\n",
       "      <td>0.134470</td>\n",
       "      <td>0.063628</td>\n",
       "    </tr>\n",
       "    <tr>\n",
       "      <th>54516</th>\n",
       "      <td>1</td>\n",
       "      <td>190</td>\n",
       "      <td>2</td>\n",
       "      <td>23</td>\n",
       "      <td>596</td>\n",
       "      <td>1</td>\n",
       "      <td>1991</td>\n",
       "      <td>0.057264</td>\n",
       "      <td>0.200503</td>\n",
       "      <td>0.010106</td>\n",
       "    </tr>\n",
       "    <tr>\n",
       "      <th>2383</th>\n",
       "      <td>1</td>\n",
       "      <td>121</td>\n",
       "      <td>2</td>\n",
       "      <td>19</td>\n",
       "      <td>429</td>\n",
       "      <td>1</td>\n",
       "      <td>1992</td>\n",
       "      <td>33.613825</td>\n",
       "      <td>56.491770</td>\n",
       "      <td>15.765678</td>\n",
       "    </tr>\n",
       "    <tr>\n",
       "      <th>825680</th>\n",
       "      <td>1</td>\n",
       "      <td>122</td>\n",
       "      <td>1</td>\n",
       "      <td>158</td>\n",
       "      <td>503</td>\n",
       "      <td>1</td>\n",
       "      <td>1992</td>\n",
       "      <td>14.036031</td>\n",
       "      <td>18.701929</td>\n",
       "      <td>8.413387</td>\n",
       "    </tr>\n",
       "    <tr>\n",
       "      <th>748597</th>\n",
       "      <td>1</td>\n",
       "      <td>182</td>\n",
       "      <td>1</td>\n",
       "      <td>13</td>\n",
       "      <td>656</td>\n",
       "      <td>1</td>\n",
       "      <td>1992</td>\n",
       "      <td>0.133535</td>\n",
       "      <td>0.369846</td>\n",
       "      <td>0.029893</td>\n",
       "    </tr>\n",
       "    <tr>\n",
       "      <th>316456</th>\n",
       "      <td>1</td>\n",
       "      <td>153</td>\n",
       "      <td>2</td>\n",
       "      <td>13</td>\n",
       "      <td>650</td>\n",
       "      <td>1</td>\n",
       "      <td>1992</td>\n",
       "      <td>0.046454</td>\n",
       "      <td>0.081040</td>\n",
       "      <td>0.020653</td>\n",
       "    </tr>\n",
       "    <tr>\n",
       "      <th>313461</th>\n",
       "      <td>1</td>\n",
       "      <td>351</td>\n",
       "      <td>3</td>\n",
       "      <td>31</td>\n",
       "      <td>511</td>\n",
       "      <td>1</td>\n",
       "      <td>1990</td>\n",
       "      <td>0.001115</td>\n",
       "      <td>0.002366</td>\n",
       "      <td>0.000424</td>\n",
       "    </tr>\n",
       "    <tr>\n",
       "      <th>30486</th>\n",
       "      <td>1</td>\n",
       "      <td>30</td>\n",
       "      <td>1</td>\n",
       "      <td>1</td>\n",
       "      <td>688</td>\n",
       "      <td>1</td>\n",
       "      <td>1992</td>\n",
       "      <td>0.682537</td>\n",
       "      <td>1.395648</td>\n",
       "      <td>0.292053</td>\n",
       "    </tr>\n",
       "  </tbody>\n",
       "</table>\n",
       "</div>"
      ],
      "text/plain": [
       "        measure  location  sex  age  cause  metric  year           val  \\\n",
       "970795        1       101    2   22    491       1  1991  36428.509094   \n",
       "394360        1       129    1   30    468       1  1991      0.026046   \n",
       "569090        1       170    3  235    618       1  1990      0.090584   \n",
       "54516         1       190    2   23    596       1  1991      0.057264   \n",
       "2383          1       121    2   19    429       1  1992     33.613825   \n",
       "825680        1       122    1  158    503       1  1992     14.036031   \n",
       "748597        1       182    1   13    656       1  1992      0.133535   \n",
       "316456        1       153    2   13    650       1  1992      0.046454   \n",
       "313461        1       351    3   31    511       1  1990      0.001115   \n",
       "30486         1        30    1    1    688       1  1992      0.682537   \n",
       "\n",
       "               upper         lower  \n",
       "970795  37814.720550  35209.925507  \n",
       "394360      0.045314      0.014452  \n",
       "569090      0.134470      0.063628  \n",
       "54516       0.200503      0.010106  \n",
       "2383       56.491770     15.765678  \n",
       "825680     18.701929      8.413387  \n",
       "748597      0.369846      0.029893  \n",
       "316456      0.081040      0.020653  \n",
       "313461      0.002366      0.000424  \n",
       "30486       1.395648      0.292053  "
      ]
     },
     "execution_count": 12,
     "metadata": {},
     "output_type": "execute_result"
    }
   ],
   "source": [
    "data.sample(10)"
   ]
  },
  {
   "cell_type": "code",
   "execution_count": null,
   "metadata": {},
   "outputs": [],
   "source": []
  },
  {
   "cell_type": "code",
   "execution_count": 13,
   "metadata": {},
   "outputs": [
    {
     "data": {
      "text/plain": [
       "(1000000, 10)"
      ]
     },
     "execution_count": 13,
     "metadata": {},
     "output_type": "execute_result"
    }
   ],
   "source": [
    "data.shape"
   ]
  },
  {
   "cell_type": "code",
   "execution_count": 22,
   "metadata": {},
   "outputs": [
    {
     "data": {
      "text/plain": [
       "76.29402160644531"
      ]
     },
     "execution_count": 22,
     "metadata": {},
     "output_type": "execute_result"
    }
   ],
   "source": [
    "data.memory_usage().sum() / 1024 / 1024"
   ]
  },
  {
   "cell_type": "code",
   "execution_count": 25,
   "metadata": {},
   "outputs": [
    {
     "data": {
      "text/plain": [
       "2432"
      ]
     },
     "execution_count": 25,
     "metadata": {},
     "output_type": "execute_result"
    }
   ],
   "source": [
    "76 * 32"
   ]
  },
  {
   "cell_type": "code",
   "execution_count": null,
   "metadata": {},
   "outputs": [],
   "source": []
  },
  {
   "cell_type": "code",
   "execution_count": 31,
   "metadata": {
    "scrolled": true
   },
   "outputs": [
    {
     "name": "stdout",
     "output_type": "stream",
     "text": [
      "IHME-GBD_2016_DATA-39c08057-1.zip\n"
     ]
    }
   ],
   "source": [
    "all_data = []\n",
    "for n in os.listdir(source_dir):\n",
    "    print(n)\n",
    "    if not n.endswith('.zip'):\n",
    "        continue\n",
    "    f = osp.join(source_dir, n)\n",
    "    zf = ZipFile(f)\n",
    "    fname = osp.splitext(n)[0] + '.csv'\n",
    "    data = pd.read_csv(zf.open(fname))\n",
    "    data = data.drop(['upper', 'lower'], axis=1)\n",
    "    assert set(data['metric'].unique().tolist()) == set([3])\n",
    "    assert data['measure'].unique().tolist() == [25]\n",
    "    \n",
    "    # when metric / measure have only one value, enable this line to decrease memory usage\n",
    "    # data = data.drop(['metric', 'measure'], axis=1)\n",
    "    all_data.append(data)\n",
    "    zf.close()"
   ]
  },
  {
   "cell_type": "code",
   "execution_count": 32,
   "metadata": {},
   "outputs": [],
   "source": [
    "data_full = all_data.pop()"
   ]
  },
  {
   "cell_type": "code",
   "execution_count": 33,
   "metadata": {},
   "outputs": [],
   "source": [
    "l = len(all_data)\n",
    "for _ in range(l):\n",
    "    data_full = data_full.append(all_data.pop(), ignore_index=True)\n",
    "    # print(data_full.shape)"
   ]
  },
  {
   "cell_type": "code",
   "execution_count": 66,
   "metadata": {},
   "outputs": [],
   "source": [
    "# data_full = data_full.drop_duplicates(subset=['location', 'sex', 'cause', 'age', 'year', 'measure', 'metric'])"
   ]
  },
  {
   "cell_type": "code",
   "execution_count": 34,
   "metadata": {},
   "outputs": [
    {
     "data": {
      "text/plain": [
       "(576180, 8)"
      ]
     },
     "execution_count": 34,
     "metadata": {},
     "output_type": "execute_result"
    }
   ],
   "source": [
    "data_full.shape"
   ]
  },
  {
   "cell_type": "code",
   "execution_count": 14,
   "metadata": {},
   "outputs": [
    {
     "data": {
      "text/html": [
       "<div>\n",
       "<style scoped>\n",
       "    .dataframe tbody tr th:only-of-type {\n",
       "        vertical-align: middle;\n",
       "    }\n",
       "\n",
       "    .dataframe tbody tr th {\n",
       "        vertical-align: top;\n",
       "    }\n",
       "\n",
       "    .dataframe thead th {\n",
       "        text-align: right;\n",
       "    }\n",
       "</style>\n",
       "<table border=\"1\" class=\"dataframe\">\n",
       "  <thead>\n",
       "    <tr style=\"text-align: right;\">\n",
       "      <th></th>\n",
       "      <th>location</th>\n",
       "      <th>sex</th>\n",
       "      <th>age</th>\n",
       "      <th>cause</th>\n",
       "      <th>year</th>\n",
       "      <th>val</th>\n",
       "    </tr>\n",
       "  </thead>\n",
       "  <tbody>\n",
       "    <tr>\n",
       "      <th>36367360</th>\n",
       "      <td>190</td>\n",
       "      <td>1</td>\n",
       "      <td>22</td>\n",
       "      <td>642</td>\n",
       "      <td>1999</td>\n",
       "      <td>0.002420</td>\n",
       "    </tr>\n",
       "    <tr>\n",
       "      <th>3444513</th>\n",
       "      <td>211</td>\n",
       "      <td>2</td>\n",
       "      <td>13</td>\n",
       "      <td>718</td>\n",
       "      <td>1993</td>\n",
       "      <td>0.004536</td>\n",
       "    </tr>\n",
       "    <tr>\n",
       "      <th>26960771</th>\n",
       "      <td>191</td>\n",
       "      <td>3</td>\n",
       "      <td>10</td>\n",
       "      <td>387</td>\n",
       "      <td>2001</td>\n",
       "      <td>0.003558</td>\n",
       "    </tr>\n",
       "    <tr>\n",
       "      <th>45285128</th>\n",
       "      <td>14</td>\n",
       "      <td>2</td>\n",
       "      <td>22</td>\n",
       "      <td>353</td>\n",
       "      <td>1998</td>\n",
       "      <td>0.000000</td>\n",
       "    </tr>\n",
       "    <tr>\n",
       "      <th>52927178</th>\n",
       "      <td>45</td>\n",
       "      <td>3</td>\n",
       "      <td>4</td>\n",
       "      <td>716</td>\n",
       "      <td>1993</td>\n",
       "      <td>0.005300</td>\n",
       "    </tr>\n",
       "    <tr>\n",
       "      <th>18134674</th>\n",
       "      <td>435</td>\n",
       "      <td>1</td>\n",
       "      <td>13</td>\n",
       "      <td>294</td>\n",
       "      <td>2000</td>\n",
       "      <td>1.000000</td>\n",
       "    </tr>\n",
       "    <tr>\n",
       "      <th>47987758</th>\n",
       "      <td>218</td>\n",
       "      <td>2</td>\n",
       "      <td>14</td>\n",
       "      <td>847</td>\n",
       "      <td>1996</td>\n",
       "      <td>0.001109</td>\n",
       "    </tr>\n",
       "    <tr>\n",
       "      <th>44729740</th>\n",
       "      <td>210</td>\n",
       "      <td>2</td>\n",
       "      <td>17</td>\n",
       "      <td>523</td>\n",
       "      <td>1997</td>\n",
       "      <td>0.008213</td>\n",
       "    </tr>\n",
       "    <tr>\n",
       "      <th>13607689</th>\n",
       "      <td>20</td>\n",
       "      <td>3</td>\n",
       "      <td>7</td>\n",
       "      <td>713</td>\n",
       "      <td>2006</td>\n",
       "      <td>0.008149</td>\n",
       "    </tr>\n",
       "    <tr>\n",
       "      <th>7139209</th>\n",
       "      <td>39</td>\n",
       "      <td>2</td>\n",
       "      <td>7</td>\n",
       "      <td>295</td>\n",
       "      <td>2007</td>\n",
       "      <td>0.391554</td>\n",
       "    </tr>\n",
       "  </tbody>\n",
       "</table>\n",
       "</div>"
      ],
      "text/plain": [
       "          location  sex  age  cause  year       val\n",
       "36367360       190    1   22    642  1999  0.002420\n",
       "3444513        211    2   13    718  1993  0.004536\n",
       "26960771       191    3   10    387  2001  0.003558\n",
       "45285128        14    2   22    353  1998  0.000000\n",
       "52927178        45    3    4    716  1993  0.005300\n",
       "18134674       435    1   13    294  2000  1.000000\n",
       "47987758       218    2   14    847  1996  0.001109\n",
       "44729740       210    2   17    523  1997  0.008213\n",
       "13607689        20    3    7    713  2006  0.008149\n",
       "7139209         39    2    7    295  2007  0.391554"
      ]
     },
     "execution_count": 14,
     "metadata": {},
     "output_type": "execute_result"
    }
   ],
   "source": [
    "data_full.sample(10)"
   ]
  },
  {
   "cell_type": "code",
   "execution_count": 38,
   "metadata": {},
   "outputs": [
    {
     "data": {
      "text/plain": [
       "array([27, 22])"
      ]
     },
     "execution_count": 38,
     "metadata": {},
     "output_type": "execute_result"
    }
   ],
   "source": [
    "data_full.age.unique()"
   ]
  },
  {
   "cell_type": "code",
   "execution_count": 39,
   "metadata": {},
   "outputs": [
    {
     "data": {
      "text/plain": [
       "array([2004, 2001, 2003, 2005, 2000, 2002, 1999, 2006, 2007, 1997, 1998,\n",
       "       1996, 1995, 1993, 1994, 1990, 1992, 1991, 2014, 2016, 2015, 2013,\n",
       "       2012, 2011, 2010, 2009, 2008])"
      ]
     },
     "execution_count": 39,
     "metadata": {},
     "output_type": "execute_result"
    }
   ],
   "source": [
    "data_full.year.unique()"
   ]
  },
  {
   "cell_type": "code",
   "execution_count": 40,
   "metadata": {},
   "outputs": [
    {
     "data": {
      "text/plain": [
       "array([3, 1, 2])"
      ]
     },
     "execution_count": 40,
     "metadata": {},
     "output_type": "execute_result"
    }
   ],
   "source": [
    "data_full.metric.unique()"
   ]
  },
  {
   "cell_type": "code",
   "execution_count": 41,
   "metadata": {},
   "outputs": [
    {
     "data": {
      "text/plain": [
       "array([4])"
      ]
     },
     "execution_count": 41,
     "metadata": {},
     "output_type": "execute_result"
    }
   ],
   "source": [
    "data_full.measure.unique()"
   ]
  },
  {
   "cell_type": "code",
   "execution_count": 42,
   "metadata": {},
   "outputs": [
    {
     "data": {
      "text/plain": [
       "array([586, 587, 545, 546, 554, 557, 558, 560, 294, 295, 296, 297, 298,\n",
       "       300, 301, 302, 318, 319, 320, 321, 322, 328, 329, 332, 333, 334,\n",
       "       335, 336, 337, 338, 339, 456, 459, 462, 465, 468, 471, 474, 477,\n",
       "       480, 483, 484, 485, 486, 725, 726, 727, 728, 729, 741, 842, 843,\n",
       "       845, 846, 847, 848, 849, 854, 934, 935, 938, 942, 943, 944, 945,\n",
       "       946, 947, 948, 949, 950, 526, 527, 528, 529, 530, 531, 532, 533,\n",
       "       534, 535, 541, 542, 543, 544, 561, 562, 563, 564, 566, 507, 508,\n",
       "       509, 510, 511, 512, 513, 514, 515, 516, 520, 521, 522, 523, 524,\n",
       "       525, 590, 591, 592, 593, 594, 595, 596, 602, 603, 604, 605, 607,\n",
       "       608, 612, 613, 614, 615, 616, 618, 619, 626, 627, 639, 640, 641,\n",
       "       642, 643, 644, 645, 358, 359, 360, 361, 695, 696, 697, 698, 699,\n",
       "       700, 704, 705, 706, 707, 708, 709, 710, 711, 712, 713, 715, 716,\n",
       "       717, 718, 721, 723, 724, 648, 649, 650, 651, 652, 653, 656, 657,\n",
       "       387, 388, 390, 391, 392, 393, 394, 395, 396, 399, 400, 401, 402,\n",
       "       403, 404, 408, 409, 410, 411, 414, 417, 665, 668, 686, 687, 688,\n",
       "       689, 690, 691, 692, 693, 340, 341, 342, 344, 345, 346, 347, 348,\n",
       "       350, 351, 352, 353, 357, 365, 366, 367, 368, 369, 370, 371, 375,\n",
       "       376, 379, 380, 381, 382, 383, 384, 385, 386, 588, 589, 572, 573,\n",
       "       574, 418, 419, 420, 421, 423, 426, 429, 432, 435, 438, 441, 444,\n",
       "       447, 450, 453, 694, 487, 488, 491, 492, 493, 494, 495, 496, 498,\n",
       "       499, 500, 501, 502, 503])"
      ]
     },
     "execution_count": 42,
     "metadata": {},
     "output_type": "execute_result"
    }
   ],
   "source": [
    "data_full.cause.unique()"
   ]
  },
  {
   "cell_type": "code",
   "execution_count": 35,
   "metadata": {},
   "outputs": [],
   "source": [
    "groups = data_full.groupby(by=['measure', 'metric'])"
   ]
  },
  {
   "cell_type": "code",
   "execution_count": 6,
   "metadata": {},
   "outputs": [],
   "source": [
    "metric = md['metric'].copy()\n",
    "measure = md['measure'].copy()"
   ]
  },
  {
   "cell_type": "code",
   "execution_count": 7,
   "metadata": {},
   "outputs": [],
   "source": [
    "metric = metric.set_index('metric_id')['name'].to_dict()\n",
    "measure = measure.set_index('measure_id')['short_name'].to_dict()"
   ]
  },
  {
   "cell_type": "code",
   "execution_count": 27,
   "metadata": {},
   "outputs": [
    {
     "data": {
      "text/plain": [
       "{1: 'Deaths',\n",
       " 2: 'DALYs',\n",
       " 25: 'MMR',\n",
       " 26: 'LE',\n",
       " 27: 'PoD',\n",
       " 28: 'HALE',\n",
       " 29: 'SEV',\n",
       " 3: 'YLDs',\n",
       " 4: 'YLLs',\n",
       " 43: 'haq_index',\n",
       " 5: 'Prevalence',\n",
       " 6: 'Incidence'}"
      ]
     },
     "execution_count": 27,
     "metadata": {},
     "output_type": "execute_result"
    }
   ],
   "source": [
    "measure"
   ]
  },
  {
   "cell_type": "code",
   "execution_count": null,
   "metadata": {},
   "outputs": [],
   "source": []
  },
  {
   "cell_type": "code",
   "execution_count": null,
   "metadata": {},
   "outputs": [],
   "source": []
  },
  {
   "cell_type": "code",
   "execution_count": 18,
   "metadata": {},
   "outputs": [],
   "source": [
    "formatter = partial(format_float_digits, digits=2)"
   ]
  },
  {
   "cell_type": "code",
   "execution_count": 43,
   "metadata": {},
   "outputs": [],
   "source": []
  },
  {
   "cell_type": "code",
   "execution_count": 36,
   "metadata": {
    "scrolled": true
   },
   "outputs": [],
   "source": [
    "all_measures = []\n",
    "\n",
    "for g in groups.groups:\n",
    "    name  = measure[g[0]] + ' ' + metric[g[1]]\n",
    "    # print(name)\n",
    "    concept = to_concept_id(name)\n",
    "    all_measures.append([concept, name])\n",
    "    \n",
    "    df = groups.get_group(g)\n",
    "    df = df.rename(columns={'val': concept})\n",
    "    cause_groups = df.groupby(by='cause')  # split by cause\n",
    "    cols = ['location', 'sex', 'age', 'cause', 'year', concept]\n",
    "    df[concept] = df[concept].map(formatter)\n",
    "    # if concept == 'mmr_rate':\n",
    "    #     print(df.sex.unique())\n",
    "    for g_ in cause_groups.groups:\n",
    "        df_ = cause_groups.get_group(g_)\n",
    "#         print(g_)\n",
    "#         print(df_.age.unique())\n",
    "#         print(len(df_.year.unique()))\n",
    "#         print(len(df_.location.unique()))\n",
    "        cause = 'cause-{}'.format(g_)\n",
    "        by = ['location', 'sex', 'age', cause, 'year']\n",
    "        file_name = 'ddf--datapoints--'+concept+'--by--'+'--'.join(by)+'.csv'\n",
    "        file_path = osp.join('../../../ddf--ihme--global_burden_disease_maternal_mortality/', file_name)\n",
    "        df_[cols].sort_values(by=['location', 'sex', 'age', 'year']).to_csv(file_path, index=False)"
   ]
  },
  {
   "cell_type": "code",
   "execution_count": null,
   "metadata": {},
   "outputs": [],
   "source": []
  },
  {
   "cell_type": "code",
   "execution_count": 76,
   "metadata": {},
   "outputs": [
    {
     "data": {
      "text/plain": [
       "'Deaths Rate'"
      ]
     },
     "execution_count": 76,
     "metadata": {},
     "output_type": "execute_result"
    }
   ],
   "source": [
    "measure[1] + ' ' + metric[3]"
   ]
  },
  {
   "cell_type": "code",
   "execution_count": 45,
   "metadata": {},
   "outputs": [],
   "source": [
    "# data_full = data_full.drop(['measure', 'metric'], axis=1)"
   ]
  },
  {
   "cell_type": "code",
   "execution_count": 46,
   "metadata": {},
   "outputs": [],
   "source": [
    "# data_full['val'] = data_full['val'].map(format_float_digits)"
   ]
  },
  {
   "cell_type": "code",
   "execution_count": 37,
   "metadata": {},
   "outputs": [],
   "source": [
    "all_measures = []"
   ]
  },
  {
   "cell_type": "code",
   "execution_count": 77,
   "metadata": {},
   "outputs": [],
   "source": [
    "name  = measure[1] + ' ' + metric[3]\n",
    "# print(name)\n",
    "concept = to_concept_id(name)\n",
    "# all_measures.append([concept, name])\n",
    "\n",
    "cause_groups = data_full.groupby(by='cause')  # split by cause\n",
    "cols = ['location', 'sex', 'age', 'cause', 'year', concept]"
   ]
  },
  {
   "cell_type": "code",
   "execution_count": 78,
   "metadata": {},
   "outputs": [],
   "source": [
    "# if concept == 'mmr_rate':\n",
    "#     print(df.sex.unique())\n",
    "for g_ in cause_groups.groups:\n",
    "    df_ = cause_groups.get_group(g_)\n",
    "    df_  = df_.rename(columns={'val': concept})\n",
    "    # df_ = df_[df_.age.isin(ages)]\n",
    "    df_[concept] = df_[concept].map(formatter)\n",
    "#         print(g_)\n",
    "#         print(df_.age.unique())\n",
    "#         print(len(df_.year.unique()))\n",
    "#         print(len(df_.location.unique()))\n",
    "    cause = 'cause-{}'.format(g_)\n",
    "    by = ['location', 'sex', 'age', cause, 'year']\n",
    "    file_name = 'ddf--datapoints--'+concept+'--by--'+'--'.join(by)+'.csv'\n",
    "    file_path = osp.join('../../cause/deaths/', file_name)\n",
    "    df_[cols].sort_values(by=['location', 'sex', 'age', 'year']).to_csv(file_path, index=False)"
   ]
  },
  {
   "cell_type": "code",
   "execution_count": null,
   "metadata": {},
   "outputs": [],
   "source": []
  },
  {
   "cell_type": "code",
   "execution_count": null,
   "metadata": {},
   "outputs": [],
   "source": []
  },
  {
   "cell_type": "code",
   "execution_count": null,
   "metadata": {},
   "outputs": [],
   "source": []
  },
  {
   "cell_type": "code",
   "execution_count": 26,
   "metadata": {},
   "outputs": [
    {
     "data": {
      "text/html": [
       "<div>\n",
       "<style scoped>\n",
       "    .dataframe tbody tr th:only-of-type {\n",
       "        vertical-align: middle;\n",
       "    }\n",
       "\n",
       "    .dataframe tbody tr th {\n",
       "        vertical-align: top;\n",
       "    }\n",
       "\n",
       "    .dataframe thead th {\n",
       "        text-align: right;\n",
       "    }\n",
       "</style>\n",
       "<table border=\"1\" class=\"dataframe\">\n",
       "  <thead>\n",
       "    <tr style=\"text-align: right;\">\n",
       "      <th></th>\n",
       "      <th>measure</th>\n",
       "      <th>location</th>\n",
       "      <th>sex</th>\n",
       "      <th>age</th>\n",
       "      <th>cause</th>\n",
       "      <th>metric</th>\n",
       "      <th>year</th>\n",
       "      <th>mmr_rate</th>\n",
       "    </tr>\n",
       "  </thead>\n",
       "  <tbody>\n",
       "    <tr>\n",
       "      <th>6464</th>\n",
       "      <td>25</td>\n",
       "      <td>548</td>\n",
       "      <td>2</td>\n",
       "      <td>8</td>\n",
       "      <td>376</td>\n",
       "      <td>3</td>\n",
       "      <td>1990</td>\n",
       "      <td>0.404898</td>\n",
       "    </tr>\n",
       "    <tr>\n",
       "      <th>6465</th>\n",
       "      <td>25</td>\n",
       "      <td>548</td>\n",
       "      <td>2</td>\n",
       "      <td>9</td>\n",
       "      <td>376</td>\n",
       "      <td>3</td>\n",
       "      <td>1990</td>\n",
       "      <td>0.474038</td>\n",
       "    </tr>\n",
       "    <tr>\n",
       "      <th>6466</th>\n",
       "      <td>25</td>\n",
       "      <td>548</td>\n",
       "      <td>2</td>\n",
       "      <td>10</td>\n",
       "      <td>376</td>\n",
       "      <td>3</td>\n",
       "      <td>1990</td>\n",
       "      <td>0.536445</td>\n",
       "    </tr>\n",
       "    <tr>\n",
       "      <th>6467</th>\n",
       "      <td>25</td>\n",
       "      <td>548</td>\n",
       "      <td>2</td>\n",
       "      <td>11</td>\n",
       "      <td>376</td>\n",
       "      <td>3</td>\n",
       "      <td>1990</td>\n",
       "      <td>0.928353</td>\n",
       "    </tr>\n",
       "    <tr>\n",
       "      <th>6468</th>\n",
       "      <td>25</td>\n",
       "      <td>548</td>\n",
       "      <td>2</td>\n",
       "      <td>12</td>\n",
       "      <td>376</td>\n",
       "      <td>3</td>\n",
       "      <td>1990</td>\n",
       "      <td>1.957516</td>\n",
       "    </tr>\n",
       "  </tbody>\n",
       "</table>\n",
       "</div>"
      ],
      "text/plain": [
       "      measure  location  sex  age  cause  metric  year  mmr_rate\n",
       "6464       25       548    2    8    376       3  1990  0.404898\n",
       "6465       25       548    2    9    376       3  1990  0.474038\n",
       "6466       25       548    2   10    376       3  1990  0.536445\n",
       "6467       25       548    2   11    376       3  1990  0.928353\n",
       "6468       25       548    2   12    376       3  1990  1.957516"
      ]
     },
     "execution_count": 26,
     "metadata": {},
     "output_type": "execute_result"
    }
   ],
   "source": [
    "df.head()"
   ]
  },
  {
   "cell_type": "code",
   "execution_count": 32,
   "metadata": {},
   "outputs": [
    {
     "data": {
      "text/plain": [
       "[['deaths_number', 'Deaths Number'],\n",
       " ['deaths_percent', 'Deaths Percent'],\n",
       " ['deaths_rate', 'Deaths Rate'],\n",
       " ['dalys_number', 'DALYs Number'],\n",
       " ['dalys_percent', 'DALYs Percent'],\n",
       " ['dalys_rate', 'DALYs Rate'],\n",
       " ['ylds_number', 'YLDs Number'],\n",
       " ['ylds_percent', 'YLDs Percent'],\n",
       " ['ylds_rate', 'YLDs Rate'],\n",
       " ['ylls_number', 'YLLs Number'],\n",
       " ['ylls_percent', 'YLLs Percent'],\n",
       " ['ylls_rate', 'YLLs Rate'],\n",
       " ['prevalence_number', 'Prevalence Number'],\n",
       " ['prevalence_percent', 'Prevalence Percent'],\n",
       " ['prevalence_rate', 'Prevalence Rate'],\n",
       " ['incidence_number', 'Incidence Number'],\n",
       " ['incidence_percent', 'Incidence Percent'],\n",
       " ['incidence_rate', 'Incidence Rate'],\n",
       " ['mmr_rate', 'MMR Rate']]"
      ]
     },
     "execution_count": 32,
     "metadata": {},
     "output_type": "execute_result"
    }
   ],
   "source": [
    "all_measures"
   ]
  },
  {
   "cell_type": "code",
   "execution_count": 25,
   "metadata": {},
   "outputs": [
    {
     "data": {
      "text/plain": [
       "(335, 5)"
      ]
     },
     "execution_count": 25,
     "metadata": {},
     "output_type": "execute_result"
    }
   ],
   "source": [
    "md['cause'].shape"
   ]
  },
  {
   "cell_type": "code",
   "execution_count": 26,
   "metadata": {},
   "outputs": [
    {
     "data": {
      "text/plain": [
       "(436, 6)"
      ]
     },
     "execution_count": 26,
     "metadata": {},
     "output_type": "execute_result"
    }
   ],
   "source": [
    "md['location'].shape"
   ]
  },
  {
   "cell_type": "code",
   "execution_count": 27,
   "metadata": {},
   "outputs": [
    {
     "data": {
      "text/plain": [
       "(3, 3)"
      ]
     },
     "execution_count": 27,
     "metadata": {},
     "output_type": "execute_result"
    }
   ],
   "source": [
    "md['sex'].shape"
   ]
  },
  {
   "cell_type": "code",
   "execution_count": 28,
   "metadata": {},
   "outputs": [
    {
     "data": {
      "text/plain": [
       "(46, 6)"
      ]
     },
     "execution_count": 28,
     "metadata": {},
     "output_type": "execute_result"
    }
   ],
   "source": [
    "md['age'].shape"
   ]
  },
  {
   "cell_type": "code",
   "execution_count": 33,
   "metadata": {},
   "outputs": [],
   "source": [
    "# entities"
   ]
  },
  {
   "cell_type": "code",
   "execution_count": 35,
   "metadata": {},
   "outputs": [],
   "source": [
    "sexs = md['sex'].copy()"
   ]
  },
  {
   "cell_type": "code",
   "execution_count": 36,
   "metadata": {},
   "outputs": [
    {
     "data": {
      "text/html": [
       "<div>\n",
       "<style scoped>\n",
       "    .dataframe tbody tr th:only-of-type {\n",
       "        vertical-align: middle;\n",
       "    }\n",
       "\n",
       "    .dataframe tbody tr th {\n",
       "        vertical-align: top;\n",
       "    }\n",
       "\n",
       "    .dataframe thead th {\n",
       "        text-align: right;\n",
       "    }\n",
       "</style>\n",
       "<table border=\"1\" class=\"dataframe\">\n",
       "  <thead>\n",
       "    <tr style=\"text-align: right;\">\n",
       "      <th></th>\n",
       "      <th>sex_id</th>\n",
       "      <th>name</th>\n",
       "      <th>label</th>\n",
       "    </tr>\n",
       "  </thead>\n",
       "  <tbody>\n",
       "    <tr>\n",
       "      <th>1</th>\n",
       "      <td>1</td>\n",
       "      <td>Male</td>\n",
       "      <td>Males</td>\n",
       "    </tr>\n",
       "    <tr>\n",
       "      <th>2</th>\n",
       "      <td>2</td>\n",
       "      <td>Female</td>\n",
       "      <td>Females</td>\n",
       "    </tr>\n",
       "    <tr>\n",
       "      <th>3</th>\n",
       "      <td>3</td>\n",
       "      <td>Both</td>\n",
       "      <td>Both sexes</td>\n",
       "    </tr>\n",
       "  </tbody>\n",
       "</table>\n",
       "</div>"
      ],
      "text/plain": [
       "   sex_id    name       label\n",
       "1       1    Male       Males\n",
       "2       2  Female     Females\n",
       "3       3    Both  Both sexes"
      ]
     },
     "execution_count": 36,
     "metadata": {},
     "output_type": "execute_result"
    }
   ],
   "source": [
    "sexs"
   ]
  },
  {
   "cell_type": "code",
   "execution_count": 40,
   "metadata": {},
   "outputs": [],
   "source": [
    "sexs.columns = ['sex', 'name', 'short_name']\n",
    "sexs[['sex', 'name']].to_csv('../../ddf--entities--sex.csv', index=False)"
   ]
  },
  {
   "cell_type": "code",
   "execution_count": 38,
   "metadata": {},
   "outputs": [],
   "source": [
    "causes = md['cause'].copy()"
   ]
  },
  {
   "cell_type": "code",
   "execution_count": 42,
   "metadata": {},
   "outputs": [
    {
     "data": {
      "text/html": [
       "<div>\n",
       "<style scoped>\n",
       "    .dataframe tbody tr th:only-of-type {\n",
       "        vertical-align: middle;\n",
       "    }\n",
       "\n",
       "    .dataframe tbody tr th {\n",
       "        vertical-align: top;\n",
       "    }\n",
       "\n",
       "    .dataframe thead th {\n",
       "        text-align: right;\n",
       "    }\n",
       "</style>\n",
       "<table border=\"1\" class=\"dataframe\">\n",
       "  <thead>\n",
       "    <tr style=\"text-align: right;\">\n",
       "      <th></th>\n",
       "      <th>cause</th>\n",
       "      <th>label</th>\n",
       "      <th>name</th>\n",
       "      <th>medium_name</th>\n",
       "      <th>short_name</th>\n",
       "    </tr>\n",
       "  </thead>\n",
       "  <tbody>\n",
       "    <tr>\n",
       "      <th>294</th>\n",
       "      <td>294</td>\n",
       "      <td>Total</td>\n",
       "      <td>All causes</td>\n",
       "      <td>All causes</td>\n",
       "      <td>All causes</td>\n",
       "    </tr>\n",
       "    <tr>\n",
       "      <th>295</th>\n",
       "      <td>295</td>\n",
       "      <td>A</td>\n",
       "      <td>Communicable, maternal, neonatal, and nutritio...</td>\n",
       "      <td>Group I</td>\n",
       "      <td>Group I</td>\n",
       "    </tr>\n",
       "    <tr>\n",
       "      <th>296</th>\n",
       "      <td>296</td>\n",
       "      <td>A.1</td>\n",
       "      <td>HIV/AIDS and tuberculosis</td>\n",
       "      <td>HIV/AIDS &amp; tuberculosis</td>\n",
       "      <td>HIV+TB</td>\n",
       "    </tr>\n",
       "    <tr>\n",
       "      <th>297</th>\n",
       "      <td>297</td>\n",
       "      <td>A.1.1</td>\n",
       "      <td>Tuberculosis</td>\n",
       "      <td>Tuberculosis</td>\n",
       "      <td>TB</td>\n",
       "    </tr>\n",
       "    <tr>\n",
       "      <th>298</th>\n",
       "      <td>298</td>\n",
       "      <td>A.1.2</td>\n",
       "      <td>HIV/AIDS</td>\n",
       "      <td>HIV/AIDS</td>\n",
       "      <td>HIV</td>\n",
       "    </tr>\n",
       "  </tbody>\n",
       "</table>\n",
       "</div>"
      ],
      "text/plain": [
       "     cause  label                                               name  \\\n",
       "294    294  Total                                         All causes   \n",
       "295    295      A  Communicable, maternal, neonatal, and nutritio...   \n",
       "296    296    A.1                          HIV/AIDS and tuberculosis   \n",
       "297    297  A.1.1                                       Tuberculosis   \n",
       "298    298  A.1.2                                           HIV/AIDS   \n",
       "\n",
       "                 medium_name  short_name  \n",
       "294               All causes  All causes  \n",
       "295                  Group I     Group I  \n",
       "296  HIV/AIDS & tuberculosis      HIV+TB  \n",
       "297             Tuberculosis          TB  \n",
       "298                 HIV/AIDS         HIV  "
      ]
     },
     "execution_count": 42,
     "metadata": {},
     "output_type": "execute_result"
    }
   ],
   "source": [
    "causes.head()"
   ]
  },
  {
   "cell_type": "code",
   "execution_count": 41,
   "metadata": {},
   "outputs": [],
   "source": [
    "causes.columns = ['cause', 'label', 'name', 'medium_name', 'short_name']\n",
    "causes.to_csv('../../ddf--entities--cause.csv', index=False)"
   ]
  },
  {
   "cell_type": "code",
   "execution_count": 43,
   "metadata": {},
   "outputs": [],
   "source": [
    "locations = md['location'].copy()"
   ]
  },
  {
   "cell_type": "code",
   "execution_count": 44,
   "metadata": {
    "scrolled": true
   },
   "outputs": [
    {
     "data": {
      "text/html": [
       "<div>\n",
       "<style scoped>\n",
       "    .dataframe tbody tr th:only-of-type {\n",
       "        vertical-align: middle;\n",
       "    }\n",
       "\n",
       "    .dataframe tbody tr th {\n",
       "        vertical-align: top;\n",
       "    }\n",
       "\n",
       "    .dataframe thead th {\n",
       "        text-align: right;\n",
       "    }\n",
       "</style>\n",
       "<table border=\"1\" class=\"dataframe\">\n",
       "  <thead>\n",
       "    <tr style=\"text-align: right;\">\n",
       "      <th></th>\n",
       "      <th>location_id</th>\n",
       "      <th>type</th>\n",
       "      <th>name</th>\n",
       "      <th>medium_name</th>\n",
       "      <th>short_name</th>\n",
       "      <th>enabled</th>\n",
       "    </tr>\n",
       "  </thead>\n",
       "  <tbody>\n",
       "    <tr>\n",
       "      <th>1</th>\n",
       "      <td>1</td>\n",
       "      <td>NaN</td>\n",
       "      <td>Global</td>\n",
       "      <td>Global</td>\n",
       "      <td>Earth</td>\n",
       "      <td>NaN</td>\n",
       "    </tr>\n",
       "    <tr>\n",
       "      <th>10</th>\n",
       "      <td>10</td>\n",
       "      <td>NaN</td>\n",
       "      <td>Cambodia</td>\n",
       "      <td>Cambodia</td>\n",
       "      <td>Cambodia</td>\n",
       "      <td>NaN</td>\n",
       "    </tr>\n",
       "    <tr>\n",
       "      <th>100</th>\n",
       "      <td>100</td>\n",
       "      <td>NaN</td>\n",
       "      <td>High-income North America</td>\n",
       "      <td>High-income North America</td>\n",
       "      <td>HI N Am</td>\n",
       "      <td>NaN</td>\n",
       "    </tr>\n",
       "    <tr>\n",
       "      <th>101</th>\n",
       "      <td>101</td>\n",
       "      <td>NaN</td>\n",
       "      <td>Canada</td>\n",
       "      <td>Canada</td>\n",
       "      <td>Canada</td>\n",
       "      <td>NaN</td>\n",
       "    </tr>\n",
       "    <tr>\n",
       "      <th>102</th>\n",
       "      <td>102</td>\n",
       "      <td>NaN</td>\n",
       "      <td>United States</td>\n",
       "      <td>United States</td>\n",
       "      <td>USA</td>\n",
       "      <td>NaN</td>\n",
       "    </tr>\n",
       "    <tr>\n",
       "      <th>103</th>\n",
       "      <td>103</td>\n",
       "      <td>NaN</td>\n",
       "      <td>Latin America and Caribbean</td>\n",
       "      <td>Latin America and Caribbean</td>\n",
       "      <td>Latin Am &amp; Caribbean</td>\n",
       "      <td>NaN</td>\n",
       "    </tr>\n",
       "    <tr>\n",
       "      <th>104</th>\n",
       "      <td>104</td>\n",
       "      <td>NaN</td>\n",
       "      <td>Caribbean</td>\n",
       "      <td>Caribbean</td>\n",
       "      <td>Caribbean</td>\n",
       "      <td>NaN</td>\n",
       "    </tr>\n",
       "    <tr>\n",
       "      <th>105</th>\n",
       "      <td>105</td>\n",
       "      <td>NaN</td>\n",
       "      <td>Antigua and Barbuda</td>\n",
       "      <td>Antigua and Barbuda</td>\n",
       "      <td>Antigua</td>\n",
       "      <td>NaN</td>\n",
       "    </tr>\n",
       "    <tr>\n",
       "      <th>106</th>\n",
       "      <td>106</td>\n",
       "      <td>NaN</td>\n",
       "      <td>The Bahamas</td>\n",
       "      <td>The Bahamas</td>\n",
       "      <td>Bahamas</td>\n",
       "      <td>NaN</td>\n",
       "    </tr>\n",
       "    <tr>\n",
       "      <th>107</th>\n",
       "      <td>107</td>\n",
       "      <td>NaN</td>\n",
       "      <td>Barbados</td>\n",
       "      <td>Barbados</td>\n",
       "      <td>Barbados</td>\n",
       "      <td>NaN</td>\n",
       "    </tr>\n",
       "    <tr>\n",
       "      <th>108</th>\n",
       "      <td>108</td>\n",
       "      <td>NaN</td>\n",
       "      <td>Belize</td>\n",
       "      <td>Belize</td>\n",
       "      <td>Belize</td>\n",
       "      <td>NaN</td>\n",
       "    </tr>\n",
       "    <tr>\n",
       "      <th>109</th>\n",
       "      <td>109</td>\n",
       "      <td>NaN</td>\n",
       "      <td>Cuba</td>\n",
       "      <td>Cuba</td>\n",
       "      <td>Cuba</td>\n",
       "      <td>NaN</td>\n",
       "    </tr>\n",
       "    <tr>\n",
       "      <th>11</th>\n",
       "      <td>11</td>\n",
       "      <td>NaN</td>\n",
       "      <td>Indonesia</td>\n",
       "      <td>Indonesia</td>\n",
       "      <td>Indonesia</td>\n",
       "      <td>NaN</td>\n",
       "    </tr>\n",
       "    <tr>\n",
       "      <th>110</th>\n",
       "      <td>110</td>\n",
       "      <td>NaN</td>\n",
       "      <td>Dominica</td>\n",
       "      <td>Dominica</td>\n",
       "      <td>Dominica</td>\n",
       "      <td>NaN</td>\n",
       "    </tr>\n",
       "    <tr>\n",
       "      <th>111</th>\n",
       "      <td>111</td>\n",
       "      <td>NaN</td>\n",
       "      <td>Dominican Republic</td>\n",
       "      <td>Dominican Republic</td>\n",
       "      <td>Dominican Rep</td>\n",
       "      <td>NaN</td>\n",
       "    </tr>\n",
       "    <tr>\n",
       "      <th>112</th>\n",
       "      <td>112</td>\n",
       "      <td>NaN</td>\n",
       "      <td>Grenada</td>\n",
       "      <td>Grenada</td>\n",
       "      <td>Grenada</td>\n",
       "      <td>NaN</td>\n",
       "    </tr>\n",
       "    <tr>\n",
       "      <th>113</th>\n",
       "      <td>113</td>\n",
       "      <td>NaN</td>\n",
       "      <td>Guyana</td>\n",
       "      <td>Guyana</td>\n",
       "      <td>Guyana</td>\n",
       "      <td>NaN</td>\n",
       "    </tr>\n",
       "    <tr>\n",
       "      <th>114</th>\n",
       "      <td>114</td>\n",
       "      <td>NaN</td>\n",
       "      <td>Haiti</td>\n",
       "      <td>Haiti</td>\n",
       "      <td>Haiti</td>\n",
       "      <td>NaN</td>\n",
       "    </tr>\n",
       "    <tr>\n",
       "      <th>115</th>\n",
       "      <td>115</td>\n",
       "      <td>NaN</td>\n",
       "      <td>Jamaica</td>\n",
       "      <td>Jamaica</td>\n",
       "      <td>Jamaica</td>\n",
       "      <td>NaN</td>\n",
       "    </tr>\n",
       "    <tr>\n",
       "      <th>116</th>\n",
       "      <td>116</td>\n",
       "      <td>NaN</td>\n",
       "      <td>Saint Lucia</td>\n",
       "      <td>Saint Lucia</td>\n",
       "      <td>St Lucia</td>\n",
       "      <td>NaN</td>\n",
       "    </tr>\n",
       "    <tr>\n",
       "      <th>117</th>\n",
       "      <td>117</td>\n",
       "      <td>NaN</td>\n",
       "      <td>Saint Vincent and the Grenadines</td>\n",
       "      <td>Saint Vincent and the Grenadines</td>\n",
       "      <td>St Vincent</td>\n",
       "      <td>NaN</td>\n",
       "    </tr>\n",
       "    <tr>\n",
       "      <th>118</th>\n",
       "      <td>118</td>\n",
       "      <td>NaN</td>\n",
       "      <td>Suriname</td>\n",
       "      <td>Suriname</td>\n",
       "      <td>Suriname</td>\n",
       "      <td>NaN</td>\n",
       "    </tr>\n",
       "    <tr>\n",
       "      <th>119</th>\n",
       "      <td>119</td>\n",
       "      <td>NaN</td>\n",
       "      <td>Trinidad and Tobago</td>\n",
       "      <td>Trinidad and Tobago</td>\n",
       "      <td>Trinidad Tobago</td>\n",
       "      <td>NaN</td>\n",
       "    </tr>\n",
       "    <tr>\n",
       "      <th>12</th>\n",
       "      <td>12</td>\n",
       "      <td>NaN</td>\n",
       "      <td>Laos</td>\n",
       "      <td>Laos</td>\n",
       "      <td>Laos</td>\n",
       "      <td>NaN</td>\n",
       "    </tr>\n",
       "    <tr>\n",
       "      <th>120</th>\n",
       "      <td>120</td>\n",
       "      <td>NaN</td>\n",
       "      <td>Andean Latin America</td>\n",
       "      <td>Andean Latin America</td>\n",
       "      <td>Andean Latin Am</td>\n",
       "      <td>NaN</td>\n",
       "    </tr>\n",
       "    <tr>\n",
       "      <th>121</th>\n",
       "      <td>121</td>\n",
       "      <td>NaN</td>\n",
       "      <td>Bolivia</td>\n",
       "      <td>Bolivia</td>\n",
       "      <td>Bolivia</td>\n",
       "      <td>NaN</td>\n",
       "    </tr>\n",
       "    <tr>\n",
       "      <th>122</th>\n",
       "      <td>122</td>\n",
       "      <td>NaN</td>\n",
       "      <td>Ecuador</td>\n",
       "      <td>Ecuador</td>\n",
       "      <td>Ecuador</td>\n",
       "      <td>NaN</td>\n",
       "    </tr>\n",
       "    <tr>\n",
       "      <th>123</th>\n",
       "      <td>123</td>\n",
       "      <td>NaN</td>\n",
       "      <td>Peru</td>\n",
       "      <td>Peru</td>\n",
       "      <td>Peru</td>\n",
       "      <td>NaN</td>\n",
       "    </tr>\n",
       "    <tr>\n",
       "      <th>124</th>\n",
       "      <td>124</td>\n",
       "      <td>NaN</td>\n",
       "      <td>Central Latin America</td>\n",
       "      <td>Central Latin America</td>\n",
       "      <td>Central Latin Am</td>\n",
       "      <td>NaN</td>\n",
       "    </tr>\n",
       "    <tr>\n",
       "      <th>125</th>\n",
       "      <td>125</td>\n",
       "      <td>NaN</td>\n",
       "      <td>Colombia</td>\n",
       "      <td>Colombia</td>\n",
       "      <td>Colombia</td>\n",
       "      <td>NaN</td>\n",
       "    </tr>\n",
       "    <tr>\n",
       "      <th>...</th>\n",
       "      <td>...</td>\n",
       "      <td>...</td>\n",
       "      <td>...</td>\n",
       "      <td>...</td>\n",
       "      <td>...</td>\n",
       "      <td>...</td>\n",
       "    </tr>\n",
       "    <tr>\n",
       "      <th>73</th>\n",
       "      <td>73</td>\n",
       "      <td>NaN</td>\n",
       "      <td>Western Europe</td>\n",
       "      <td>Western Europe</td>\n",
       "      <td>W Europe</td>\n",
       "      <td>NaN</td>\n",
       "    </tr>\n",
       "    <tr>\n",
       "      <th>74</th>\n",
       "      <td>74</td>\n",
       "      <td>NaN</td>\n",
       "      <td>Andorra</td>\n",
       "      <td>Andorra</td>\n",
       "      <td>Andorra</td>\n",
       "      <td>NaN</td>\n",
       "    </tr>\n",
       "    <tr>\n",
       "      <th>75</th>\n",
       "      <td>75</td>\n",
       "      <td>NaN</td>\n",
       "      <td>Austria</td>\n",
       "      <td>Austria</td>\n",
       "      <td>Austria</td>\n",
       "      <td>NaN</td>\n",
       "    </tr>\n",
       "    <tr>\n",
       "      <th>76</th>\n",
       "      <td>76</td>\n",
       "      <td>NaN</td>\n",
       "      <td>Belgium</td>\n",
       "      <td>Belgium</td>\n",
       "      <td>Belgium</td>\n",
       "      <td>NaN</td>\n",
       "    </tr>\n",
       "    <tr>\n",
       "      <th>77</th>\n",
       "      <td>77</td>\n",
       "      <td>NaN</td>\n",
       "      <td>Cyprus</td>\n",
       "      <td>Cyprus</td>\n",
       "      <td>Cyprus</td>\n",
       "      <td>NaN</td>\n",
       "    </tr>\n",
       "    <tr>\n",
       "      <th>78</th>\n",
       "      <td>78</td>\n",
       "      <td>NaN</td>\n",
       "      <td>Denmark</td>\n",
       "      <td>Denmark</td>\n",
       "      <td>Denmark</td>\n",
       "      <td>NaN</td>\n",
       "    </tr>\n",
       "    <tr>\n",
       "      <th>79</th>\n",
       "      <td>79</td>\n",
       "      <td>NaN</td>\n",
       "      <td>Finland</td>\n",
       "      <td>Finland</td>\n",
       "      <td>Finland</td>\n",
       "      <td>NaN</td>\n",
       "    </tr>\n",
       "    <tr>\n",
       "      <th>8</th>\n",
       "      <td>8</td>\n",
       "      <td>NaN</td>\n",
       "      <td>Taiwan</td>\n",
       "      <td>Taiwan</td>\n",
       "      <td>Taiwan</td>\n",
       "      <td>NaN</td>\n",
       "    </tr>\n",
       "    <tr>\n",
       "      <th>80</th>\n",
       "      <td>80</td>\n",
       "      <td>NaN</td>\n",
       "      <td>France</td>\n",
       "      <td>France</td>\n",
       "      <td>France</td>\n",
       "      <td>NaN</td>\n",
       "    </tr>\n",
       "    <tr>\n",
       "      <th>81</th>\n",
       "      <td>81</td>\n",
       "      <td>NaN</td>\n",
       "      <td>Germany</td>\n",
       "      <td>Germany</td>\n",
       "      <td>Germany</td>\n",
       "      <td>NaN</td>\n",
       "    </tr>\n",
       "    <tr>\n",
       "      <th>82</th>\n",
       "      <td>82</td>\n",
       "      <td>NaN</td>\n",
       "      <td>Greece</td>\n",
       "      <td>Greece</td>\n",
       "      <td>Greece</td>\n",
       "      <td>NaN</td>\n",
       "    </tr>\n",
       "    <tr>\n",
       "      <th>83</th>\n",
       "      <td>83</td>\n",
       "      <td>NaN</td>\n",
       "      <td>Iceland</td>\n",
       "      <td>Iceland</td>\n",
       "      <td>Iceland</td>\n",
       "      <td>NaN</td>\n",
       "    </tr>\n",
       "    <tr>\n",
       "      <th>84</th>\n",
       "      <td>84</td>\n",
       "      <td>NaN</td>\n",
       "      <td>Ireland</td>\n",
       "      <td>Ireland</td>\n",
       "      <td>Ireland</td>\n",
       "      <td>NaN</td>\n",
       "    </tr>\n",
       "    <tr>\n",
       "      <th>85</th>\n",
       "      <td>85</td>\n",
       "      <td>NaN</td>\n",
       "      <td>Israel</td>\n",
       "      <td>Israel</td>\n",
       "      <td>Israel</td>\n",
       "      <td>NaN</td>\n",
       "    </tr>\n",
       "    <tr>\n",
       "      <th>86</th>\n",
       "      <td>86</td>\n",
       "      <td>NaN</td>\n",
       "      <td>Italy</td>\n",
       "      <td>Italy</td>\n",
       "      <td>Italy</td>\n",
       "      <td>NaN</td>\n",
       "    </tr>\n",
       "    <tr>\n",
       "      <th>87</th>\n",
       "      <td>87</td>\n",
       "      <td>NaN</td>\n",
       "      <td>Luxembourg</td>\n",
       "      <td>Luxembourg</td>\n",
       "      <td>Luxembourg</td>\n",
       "      <td>NaN</td>\n",
       "    </tr>\n",
       "    <tr>\n",
       "      <th>88</th>\n",
       "      <td>88</td>\n",
       "      <td>NaN</td>\n",
       "      <td>Malta</td>\n",
       "      <td>Malta</td>\n",
       "      <td>Malta</td>\n",
       "      <td>NaN</td>\n",
       "    </tr>\n",
       "    <tr>\n",
       "      <th>89</th>\n",
       "      <td>89</td>\n",
       "      <td>NaN</td>\n",
       "      <td>Netherlands</td>\n",
       "      <td>Netherlands</td>\n",
       "      <td>Netherlands</td>\n",
       "      <td>NaN</td>\n",
       "    </tr>\n",
       "    <tr>\n",
       "      <th>9</th>\n",
       "      <td>9</td>\n",
       "      <td>NaN</td>\n",
       "      <td>Southeast Asia</td>\n",
       "      <td>Southeast Asia</td>\n",
       "      <td>SE Asia</td>\n",
       "      <td>NaN</td>\n",
       "    </tr>\n",
       "    <tr>\n",
       "      <th>90</th>\n",
       "      <td>90</td>\n",
       "      <td>NaN</td>\n",
       "      <td>Norway</td>\n",
       "      <td>Norway</td>\n",
       "      <td>Norway</td>\n",
       "      <td>NaN</td>\n",
       "    </tr>\n",
       "    <tr>\n",
       "      <th>91</th>\n",
       "      <td>91</td>\n",
       "      <td>NaN</td>\n",
       "      <td>Portugal</td>\n",
       "      <td>Portugal</td>\n",
       "      <td>Portugal</td>\n",
       "      <td>NaN</td>\n",
       "    </tr>\n",
       "    <tr>\n",
       "      <th>92</th>\n",
       "      <td>92</td>\n",
       "      <td>NaN</td>\n",
       "      <td>Spain</td>\n",
       "      <td>Spain</td>\n",
       "      <td>Spain</td>\n",
       "      <td>NaN</td>\n",
       "    </tr>\n",
       "    <tr>\n",
       "      <th>93</th>\n",
       "      <td>93</td>\n",
       "      <td>NaN</td>\n",
       "      <td>Sweden</td>\n",
       "      <td>Sweden</td>\n",
       "      <td>Sweden</td>\n",
       "      <td>NaN</td>\n",
       "    </tr>\n",
       "    <tr>\n",
       "      <th>94</th>\n",
       "      <td>94</td>\n",
       "      <td>NaN</td>\n",
       "      <td>Switzerland</td>\n",
       "      <td>Switzerland</td>\n",
       "      <td>Switzerland</td>\n",
       "      <td>NaN</td>\n",
       "    </tr>\n",
       "    <tr>\n",
       "      <th>95</th>\n",
       "      <td>95</td>\n",
       "      <td>NaN</td>\n",
       "      <td>United Kingdom</td>\n",
       "      <td>United Kingdom</td>\n",
       "      <td>UK</td>\n",
       "      <td>NaN</td>\n",
       "    </tr>\n",
       "    <tr>\n",
       "      <th>96</th>\n",
       "      <td>96</td>\n",
       "      <td>NaN</td>\n",
       "      <td>Southern Latin America</td>\n",
       "      <td>Southern Latin America</td>\n",
       "      <td>S Latin Am</td>\n",
       "      <td>NaN</td>\n",
       "    </tr>\n",
       "    <tr>\n",
       "      <th>97</th>\n",
       "      <td>97</td>\n",
       "      <td>NaN</td>\n",
       "      <td>Argentina</td>\n",
       "      <td>Argentina</td>\n",
       "      <td>Argentina</td>\n",
       "      <td>NaN</td>\n",
       "    </tr>\n",
       "    <tr>\n",
       "      <th>98</th>\n",
       "      <td>98</td>\n",
       "      <td>NaN</td>\n",
       "      <td>Chile</td>\n",
       "      <td>Chile</td>\n",
       "      <td>Chile</td>\n",
       "      <td>NaN</td>\n",
       "    </tr>\n",
       "    <tr>\n",
       "      <th>99</th>\n",
       "      <td>99</td>\n",
       "      <td>NaN</td>\n",
       "      <td>Uruguay</td>\n",
       "      <td>Uruguay</td>\n",
       "      <td>Uruguay</td>\n",
       "      <td>NaN</td>\n",
       "    </tr>\n",
       "    <tr>\n",
       "      <th>custom</th>\n",
       "      <td>custom</td>\n",
       "      <td>custom</td>\n",
       "      <td>Custom regions</td>\n",
       "      <td>Custom regions</td>\n",
       "      <td>Custom regions</td>\n",
       "      <td>False</td>\n",
       "    </tr>\n",
       "  </tbody>\n",
       "</table>\n",
       "<p>436 rows × 6 columns</p>\n",
       "</div>"
      ],
      "text/plain": [
       "       location_id    type                              name  \\\n",
       "1                1     NaN                            Global   \n",
       "10              10     NaN                          Cambodia   \n",
       "100            100     NaN         High-income North America   \n",
       "101            101     NaN                            Canada   \n",
       "102            102     NaN                     United States   \n",
       "103            103     NaN       Latin America and Caribbean   \n",
       "104            104     NaN                         Caribbean   \n",
       "105            105     NaN               Antigua and Barbuda   \n",
       "106            106     NaN                       The Bahamas   \n",
       "107            107     NaN                          Barbados   \n",
       "108            108     NaN                            Belize   \n",
       "109            109     NaN                              Cuba   \n",
       "11              11     NaN                         Indonesia   \n",
       "110            110     NaN                          Dominica   \n",
       "111            111     NaN                Dominican Republic   \n",
       "112            112     NaN                           Grenada   \n",
       "113            113     NaN                            Guyana   \n",
       "114            114     NaN                             Haiti   \n",
       "115            115     NaN                           Jamaica   \n",
       "116            116     NaN                       Saint Lucia   \n",
       "117            117     NaN  Saint Vincent and the Grenadines   \n",
       "118            118     NaN                          Suriname   \n",
       "119            119     NaN               Trinidad and Tobago   \n",
       "12              12     NaN                              Laos   \n",
       "120            120     NaN              Andean Latin America   \n",
       "121            121     NaN                           Bolivia   \n",
       "122            122     NaN                           Ecuador   \n",
       "123            123     NaN                              Peru   \n",
       "124            124     NaN             Central Latin America   \n",
       "125            125     NaN                          Colombia   \n",
       "...            ...     ...                               ...   \n",
       "73              73     NaN                    Western Europe   \n",
       "74              74     NaN                           Andorra   \n",
       "75              75     NaN                           Austria   \n",
       "76              76     NaN                           Belgium   \n",
       "77              77     NaN                            Cyprus   \n",
       "78              78     NaN                           Denmark   \n",
       "79              79     NaN                           Finland   \n",
       "8                8     NaN                            Taiwan   \n",
       "80              80     NaN                            France   \n",
       "81              81     NaN                           Germany   \n",
       "82              82     NaN                            Greece   \n",
       "83              83     NaN                           Iceland   \n",
       "84              84     NaN                           Ireland   \n",
       "85              85     NaN                            Israel   \n",
       "86              86     NaN                             Italy   \n",
       "87              87     NaN                        Luxembourg   \n",
       "88              88     NaN                             Malta   \n",
       "89              89     NaN                       Netherlands   \n",
       "9                9     NaN                    Southeast Asia   \n",
       "90              90     NaN                            Norway   \n",
       "91              91     NaN                          Portugal   \n",
       "92              92     NaN                             Spain   \n",
       "93              93     NaN                            Sweden   \n",
       "94              94     NaN                       Switzerland   \n",
       "95              95     NaN                    United Kingdom   \n",
       "96              96     NaN            Southern Latin America   \n",
       "97              97     NaN                         Argentina   \n",
       "98              98     NaN                             Chile   \n",
       "99              99     NaN                           Uruguay   \n",
       "custom      custom  custom                    Custom regions   \n",
       "\n",
       "                             medium_name            short_name enabled  \n",
       "1                                 Global                 Earth     NaN  \n",
       "10                              Cambodia              Cambodia     NaN  \n",
       "100            High-income North America               HI N Am     NaN  \n",
       "101                               Canada                Canada     NaN  \n",
       "102                        United States                   USA     NaN  \n",
       "103          Latin America and Caribbean  Latin Am & Caribbean     NaN  \n",
       "104                            Caribbean             Caribbean     NaN  \n",
       "105                  Antigua and Barbuda               Antigua     NaN  \n",
       "106                          The Bahamas               Bahamas     NaN  \n",
       "107                             Barbados              Barbados     NaN  \n",
       "108                               Belize                Belize     NaN  \n",
       "109                                 Cuba                  Cuba     NaN  \n",
       "11                             Indonesia             Indonesia     NaN  \n",
       "110                             Dominica              Dominica     NaN  \n",
       "111                   Dominican Republic         Dominican Rep     NaN  \n",
       "112                              Grenada               Grenada     NaN  \n",
       "113                               Guyana                Guyana     NaN  \n",
       "114                                Haiti                 Haiti     NaN  \n",
       "115                              Jamaica               Jamaica     NaN  \n",
       "116                          Saint Lucia              St Lucia     NaN  \n",
       "117     Saint Vincent and the Grenadines            St Vincent     NaN  \n",
       "118                             Suriname              Suriname     NaN  \n",
       "119                  Trinidad and Tobago       Trinidad Tobago     NaN  \n",
       "12                                  Laos                  Laos     NaN  \n",
       "120                 Andean Latin America       Andean Latin Am     NaN  \n",
       "121                              Bolivia               Bolivia     NaN  \n",
       "122                              Ecuador               Ecuador     NaN  \n",
       "123                                 Peru                  Peru     NaN  \n",
       "124                Central Latin America      Central Latin Am     NaN  \n",
       "125                             Colombia              Colombia     NaN  \n",
       "...                                  ...                   ...     ...  \n",
       "73                        Western Europe              W Europe     NaN  \n",
       "74                               Andorra               Andorra     NaN  \n",
       "75                               Austria               Austria     NaN  \n",
       "76                               Belgium               Belgium     NaN  \n",
       "77                                Cyprus                Cyprus     NaN  \n",
       "78                               Denmark               Denmark     NaN  \n",
       "79                               Finland               Finland     NaN  \n",
       "8                                 Taiwan                Taiwan     NaN  \n",
       "80                                France                France     NaN  \n",
       "81                               Germany               Germany     NaN  \n",
       "82                                Greece                Greece     NaN  \n",
       "83                               Iceland               Iceland     NaN  \n",
       "84                               Ireland               Ireland     NaN  \n",
       "85                                Israel                Israel     NaN  \n",
       "86                                 Italy                 Italy     NaN  \n",
       "87                            Luxembourg            Luxembourg     NaN  \n",
       "88                                 Malta                 Malta     NaN  \n",
       "89                           Netherlands           Netherlands     NaN  \n",
       "9                         Southeast Asia               SE Asia     NaN  \n",
       "90                                Norway                Norway     NaN  \n",
       "91                              Portugal              Portugal     NaN  \n",
       "92                                 Spain                 Spain     NaN  \n",
       "93                                Sweden                Sweden     NaN  \n",
       "94                           Switzerland           Switzerland     NaN  \n",
       "95                        United Kingdom                    UK     NaN  \n",
       "96                Southern Latin America            S Latin Am     NaN  \n",
       "97                             Argentina             Argentina     NaN  \n",
       "98                                 Chile                 Chile     NaN  \n",
       "99                               Uruguay               Uruguay     NaN  \n",
       "custom                    Custom regions        Custom regions   False  \n",
       "\n",
       "[436 rows x 6 columns]"
      ]
     },
     "execution_count": 44,
     "metadata": {},
     "output_type": "execute_result"
    }
   ],
   "source": [
    "locations"
   ]
  },
  {
   "cell_type": "code",
   "execution_count": 45,
   "metadata": {},
   "outputs": [],
   "source": [
    "# don't include the custom region"
   ]
  },
  {
   "cell_type": "code",
   "execution_count": 46,
   "metadata": {},
   "outputs": [],
   "source": [
    "locations = locations.iloc[:-1]"
   ]
  },
  {
   "cell_type": "code",
   "execution_count": 47,
   "metadata": {},
   "outputs": [
    {
     "data": {
      "text/plain": [
       "(435, 6)"
      ]
     },
     "execution_count": 47,
     "metadata": {},
     "output_type": "execute_result"
    }
   ],
   "source": [
    "locations.shape"
   ]
  },
  {
   "cell_type": "code",
   "execution_count": 48,
   "metadata": {},
   "outputs": [],
   "source": [
    "locations = locations[['location_id', 'name', 'short_name', 'medium_name']]\n",
    "locations.columns = ['location', 'name', 'short_name', 'medium_name']"
   ]
  },
  {
   "cell_type": "code",
   "execution_count": 49,
   "metadata": {},
   "outputs": [
    {
     "data": {
      "text/html": [
       "<div>\n",
       "<style scoped>\n",
       "    .dataframe tbody tr th:only-of-type {\n",
       "        vertical-align: middle;\n",
       "    }\n",
       "\n",
       "    .dataframe tbody tr th {\n",
       "        vertical-align: top;\n",
       "    }\n",
       "\n",
       "    .dataframe thead th {\n",
       "        text-align: right;\n",
       "    }\n",
       "</style>\n",
       "<table border=\"1\" class=\"dataframe\">\n",
       "  <thead>\n",
       "    <tr style=\"text-align: right;\">\n",
       "      <th></th>\n",
       "      <th>location</th>\n",
       "      <th>name</th>\n",
       "      <th>short_name</th>\n",
       "      <th>medium_name</th>\n",
       "    </tr>\n",
       "  </thead>\n",
       "  <tbody>\n",
       "    <tr>\n",
       "      <th>1</th>\n",
       "      <td>1</td>\n",
       "      <td>Global</td>\n",
       "      <td>Earth</td>\n",
       "      <td>Global</td>\n",
       "    </tr>\n",
       "    <tr>\n",
       "      <th>10</th>\n",
       "      <td>10</td>\n",
       "      <td>Cambodia</td>\n",
       "      <td>Cambodia</td>\n",
       "      <td>Cambodia</td>\n",
       "    </tr>\n",
       "    <tr>\n",
       "      <th>100</th>\n",
       "      <td>100</td>\n",
       "      <td>High-income North America</td>\n",
       "      <td>HI N Am</td>\n",
       "      <td>High-income North America</td>\n",
       "    </tr>\n",
       "    <tr>\n",
       "      <th>101</th>\n",
       "      <td>101</td>\n",
       "      <td>Canada</td>\n",
       "      <td>Canada</td>\n",
       "      <td>Canada</td>\n",
       "    </tr>\n",
       "    <tr>\n",
       "      <th>102</th>\n",
       "      <td>102</td>\n",
       "      <td>United States</td>\n",
       "      <td>USA</td>\n",
       "      <td>United States</td>\n",
       "    </tr>\n",
       "  </tbody>\n",
       "</table>\n",
       "</div>"
      ],
      "text/plain": [
       "    location                       name short_name                medium_name\n",
       "1          1                     Global      Earth                     Global\n",
       "10        10                   Cambodia   Cambodia                   Cambodia\n",
       "100      100  High-income North America    HI N Am  High-income North America\n",
       "101      101                     Canada     Canada                     Canada\n",
       "102      102              United States        USA              United States"
      ]
     },
     "execution_count": 49,
     "metadata": {},
     "output_type": "execute_result"
    }
   ],
   "source": [
    "locations.head()"
   ]
  },
  {
   "cell_type": "code",
   "execution_count": 50,
   "metadata": {},
   "outputs": [],
   "source": [
    "locations.to_csv('../../ddf--entities--location.csv', index=False)"
   ]
  },
  {
   "cell_type": "code",
   "execution_count": 63,
   "metadata": {},
   "outputs": [],
   "source": [
    "ages = md['age'].copy()"
   ]
  },
  {
   "cell_type": "code",
   "execution_count": 65,
   "metadata": {},
   "outputs": [
    {
     "data": {
      "text/html": [
       "<div>\n",
       "<style scoped>\n",
       "    .dataframe tbody tr th:only-of-type {\n",
       "        vertical-align: middle;\n",
       "    }\n",
       "\n",
       "    .dataframe tbody tr th {\n",
       "        vertical-align: top;\n",
       "    }\n",
       "\n",
       "    .dataframe thead th {\n",
       "        text-align: right;\n",
       "    }\n",
       "</style>\n",
       "<table border=\"1\" class=\"dataframe\">\n",
       "  <thead>\n",
       "    <tr style=\"text-align: right;\">\n",
       "      <th></th>\n",
       "      <th>age_id</th>\n",
       "      <th>name</th>\n",
       "      <th>short_name</th>\n",
       "      <th>sort</th>\n",
       "      <th>plot</th>\n",
       "      <th>type</th>\n",
       "    </tr>\n",
       "  </thead>\n",
       "  <tbody>\n",
       "    <tr>\n",
       "      <th>1</th>\n",
       "      <td>1</td>\n",
       "      <td>Under 5</td>\n",
       "      <td>&lt;5</td>\n",
       "      <td>22</td>\n",
       "      <td>0</td>\n",
       "      <td>aggregate</td>\n",
       "    </tr>\n",
       "    <tr>\n",
       "      <th>10</th>\n",
       "      <td>10</td>\n",
       "      <td>25 to 29</td>\n",
       "      <td>25</td>\n",
       "      <td>10</td>\n",
       "      <td>1</td>\n",
       "      <td>specific</td>\n",
       "    </tr>\n",
       "    <tr>\n",
       "      <th>11</th>\n",
       "      <td>11</td>\n",
       "      <td>30 to 34</td>\n",
       "      <td>30</td>\n",
       "      <td>11</td>\n",
       "      <td>1</td>\n",
       "      <td>specific</td>\n",
       "    </tr>\n",
       "    <tr>\n",
       "      <th>12</th>\n",
       "      <td>12</td>\n",
       "      <td>35 to 39</td>\n",
       "      <td>35</td>\n",
       "      <td>12</td>\n",
       "      <td>1</td>\n",
       "      <td>specific</td>\n",
       "    </tr>\n",
       "    <tr>\n",
       "      <th>13</th>\n",
       "      <td>13</td>\n",
       "      <td>40 to 44</td>\n",
       "      <td>40</td>\n",
       "      <td>13</td>\n",
       "      <td>1</td>\n",
       "      <td>specific</td>\n",
       "    </tr>\n",
       "  </tbody>\n",
       "</table>\n",
       "</div>"
      ],
      "text/plain": [
       "    age_id      name short_name  sort  plot       type\n",
       "1        1   Under 5         <5    22     0  aggregate\n",
       "10      10  25 to 29         25    10     1   specific\n",
       "11      11  30 to 34         30    11     1   specific\n",
       "12      12  35 to 39         35    12     1   specific\n",
       "13      13  40 to 44         40    13     1   specific"
      ]
     },
     "execution_count": 65,
     "metadata": {},
     "output_type": "execute_result"
    }
   ],
   "source": [
    "ages.head()"
   ]
  },
  {
   "cell_type": "code",
   "execution_count": 66,
   "metadata": {},
   "outputs": [],
   "source": [
    "ages = ages.sort_values(by='sort')[['age_id', 'name', 'short_name', 'type']]\n",
    "ages.columns = ['age', 'name', 'short_name', 'type']"
   ]
  },
  {
   "cell_type": "code",
   "execution_count": 68,
   "metadata": {},
   "outputs": [],
   "source": [
    "ages.to_csv('../../ddf--entities--age.csv', index=False)"
   ]
  },
  {
   "cell_type": "code",
   "execution_count": null,
   "metadata": {},
   "outputs": [],
   "source": []
  },
  {
   "cell_type": "code",
   "execution_count": 55,
   "metadata": {},
   "outputs": [],
   "source": [
    "# concepts"
   ]
  },
  {
   "cell_type": "code",
   "execution_count": 56,
   "metadata": {},
   "outputs": [],
   "source": [
    "cont_cdf = pd.DataFrame(all_measures, columns=['concept', 'name'])"
   ]
  },
  {
   "cell_type": "code",
   "execution_count": 58,
   "metadata": {},
   "outputs": [],
   "source": [
    "cont_cdf['concept_type'] = 'measure'"
   ]
  },
  {
   "cell_type": "code",
   "execution_count": 60,
   "metadata": {},
   "outputs": [],
   "source": [
    "cont_cdf.to_csv('../../ddf--concepts--continuous.csv', index=False)"
   ]
  },
  {
   "cell_type": "code",
   "execution_count": null,
   "metadata": {},
   "outputs": [],
   "source": []
  },
  {
   "cell_type": "code",
   "execution_count": 60,
   "metadata": {},
   "outputs": [],
   "source": [
    "dis_cdf = pd.DataFrame([\n",
    "    ['name', 'Name', 'string'],\n",
    "    ['short_name', 'Short Name', 'string'],\n",
    "    ['medium_name', 'Medium Name', 'string'],\n",
    "    ['long_name', 'Long Name', 'string'],\n",
    "    ['location', 'Location', 'entity_domain'],\n",
    "    ['sex', 'Sex', 'entity_domain'],\n",
    "    ['age', 'Age', 'entity_domain'],\n",
    "    ['cause', 'Cause', 'entity_domain'],\n",
    "    ['rei', 'Risk/Etiology/Impairment', 'entity_domain'],\n",
    "    ['label', 'Label', 'string'],\n",
    "    ['year', 'Year', 'time'],\n",
    "    ['type', 'Type', 'string']\n",
    "], columns=['concept', 'name', 'concept_type'])"
   ]
  },
  {
   "cell_type": "code",
   "execution_count": 61,
   "metadata": {},
   "outputs": [],
   "source": [
    "dis_cdf.sort_values(by='concept').to_csv('../../ddf--concepts--discrete.csv', index=False)"
   ]
  },
  {
   "cell_type": "code",
   "execution_count": null,
   "metadata": {},
   "outputs": [],
   "source": []
  },
  {
   "cell_type": "code",
   "execution_count": null,
   "metadata": {},
   "outputs": [],
   "source": []
  },
  {
   "cell_type": "code",
   "execution_count": 11,
   "metadata": {},
   "outputs": [],
   "source": [
    "# Risk dimension"
   ]
  },
  {
   "cell_type": "code",
   "execution_count": 12,
   "metadata": {},
   "outputs": [],
   "source": [
    "rei = md['rei']"
   ]
  },
  {
   "cell_type": "code",
   "execution_count": 22,
   "metadata": {},
   "outputs": [
    {
     "data": {
      "text/html": [
       "<div>\n",
       "<style scoped>\n",
       "    .dataframe tbody tr th:only-of-type {\n",
       "        vertical-align: middle;\n",
       "    }\n",
       "\n",
       "    .dataframe tbody tr th {\n",
       "        vertical-align: top;\n",
       "    }\n",
       "\n",
       "    .dataframe thead th {\n",
       "        text-align: right;\n",
       "    }\n",
       "</style>\n",
       "<table border=\"1\" class=\"dataframe\">\n",
       "  <thead>\n",
       "    <tr style=\"text-align: right;\">\n",
       "      <th></th>\n",
       "      <th>rei_id</th>\n",
       "      <th>type</th>\n",
       "      <th>name</th>\n",
       "      <th>short_name</th>\n",
       "      <th>enabled</th>\n",
       "    </tr>\n",
       "  </thead>\n",
       "  <tbody>\n",
       "    <tr>\n",
       "      <th>184</th>\n",
       "      <td>184</td>\n",
       "      <td>etiology</td>\n",
       "      <td>Norovirus</td>\n",
       "      <td>Norovirus</td>\n",
       "      <td>1</td>\n",
       "    </tr>\n",
       "  </tbody>\n",
       "</table>\n",
       "</div>"
      ],
      "text/plain": [
       "     rei_id      type       name short_name  enabled\n",
       "184     184  etiology  Norovirus  Norovirus        1"
      ]
     },
     "execution_count": 22,
     "metadata": {},
     "output_type": "execute_result"
    }
   ],
   "source": [
    "rei[rei['rei_id'] == 184]"
   ]
  },
  {
   "cell_type": "code",
   "execution_count": 19,
   "metadata": {},
   "outputs": [],
   "source": [
    "causes = md['cause']"
   ]
  },
  {
   "cell_type": "code",
   "execution_count": 21,
   "metadata": {},
   "outputs": [
    {
     "data": {
      "text/html": [
       "<div>\n",
       "<style scoped>\n",
       "    .dataframe tbody tr th:only-of-type {\n",
       "        vertical-align: middle;\n",
       "    }\n",
       "\n",
       "    .dataframe tbody tr th {\n",
       "        vertical-align: top;\n",
       "    }\n",
       "\n",
       "    .dataframe thead th {\n",
       "        text-align: right;\n",
       "    }\n",
       "</style>\n",
       "<table border=\"1\" class=\"dataframe\">\n",
       "  <thead>\n",
       "    <tr style=\"text-align: right;\">\n",
       "      <th></th>\n",
       "      <th>cause_id</th>\n",
       "      <th>cause</th>\n",
       "      <th>name</th>\n",
       "      <th>medium_name</th>\n",
       "      <th>short_name</th>\n",
       "    </tr>\n",
       "  </thead>\n",
       "  <tbody>\n",
       "    <tr>\n",
       "      <th>295</th>\n",
       "      <td>295</td>\n",
       "      <td>A</td>\n",
       "      <td>Communicable, maternal, neonatal, and nutritio...</td>\n",
       "      <td>Group I</td>\n",
       "      <td>Group I</td>\n",
       "    </tr>\n",
       "  </tbody>\n",
       "</table>\n",
       "</div>"
      ],
      "text/plain": [
       "     cause_id cause                                               name  \\\n",
       "295       295     A  Communicable, maternal, neonatal, and nutritio...   \n",
       "\n",
       "    medium_name short_name  \n",
       "295     Group I    Group I  "
      ]
     },
     "execution_count": 21,
     "metadata": {},
     "output_type": "execute_result"
    }
   ],
   "source": [
    "causes[causes['cause_id'] == 295]"
   ]
  },
  {
   "cell_type": "code",
   "execution_count": null,
   "metadata": {},
   "outputs": [],
   "source": []
  },
  {
   "cell_type": "code",
   "execution_count": 23,
   "metadata": {},
   "outputs": [],
   "source": [
    "# risk"
   ]
  },
  {
   "cell_type": "code",
   "execution_count": 27,
   "metadata": {},
   "outputs": [
    {
     "name": "stdout",
     "output_type": "stream",
     "text": [
      "Once deleted, variables cannot be recovered. Proceed (y/[n])? y\n"
     ]
    }
   ],
   "source": [
    "%reset"
   ]
  },
  {
   "cell_type": "code",
   "execution_count": null,
   "metadata": {},
   "outputs": [],
   "source": []
  },
  {
   "cell_type": "code",
   "execution_count": 8,
   "metadata": {},
   "outputs": [],
   "source": [
    "rsd = '../source/risk/impairment/'"
   ]
  },
  {
   "cell_type": "code",
   "execution_count": 9,
   "metadata": {},
   "outputs": [
    {
     "name": "stdout",
     "output_type": "stream",
     "text": [
      "IHME-GBD_2016_DATA-c6af0745-1.zip\n",
      "IHME-GBD_2016_DATA-c6af0745-10.zip\n",
      "IHME-GBD_2016_DATA-c6af0745-100.zip\n",
      "IHME-GBD_2016_DATA-c6af0745-101.zip\n",
      "IHME-GBD_2016_DATA-c6af0745-102.zip\n",
      "IHME-GBD_2016_DATA-c6af0745-103.zip\n",
      "IHME-GBD_2016_DATA-c6af0745-104.zip\n",
      "IHME-GBD_2016_DATA-c6af0745-105.zip\n",
      "IHME-GBD_2016_DATA-c6af0745-106.zip\n",
      "IHME-GBD_2016_DATA-c6af0745-107.zip\n",
      "IHME-GBD_2016_DATA-c6af0745-108.zip\n",
      "IHME-GBD_2016_DATA-c6af0745-109.zip\n",
      "IHME-GBD_2016_DATA-c6af0745-11.zip\n",
      "IHME-GBD_2016_DATA-c6af0745-110.zip\n",
      "IHME-GBD_2016_DATA-c6af0745-111.zip\n",
      "IHME-GBD_2016_DATA-c6af0745-112.zip\n",
      "IHME-GBD_2016_DATA-c6af0745-113.zip\n",
      "IHME-GBD_2016_DATA-c6af0745-114.zip\n",
      "IHME-GBD_2016_DATA-c6af0745-115.zip\n",
      "IHME-GBD_2016_DATA-c6af0745-116.zip\n",
      "IHME-GBD_2016_DATA-c6af0745-117.zip\n",
      "IHME-GBD_2016_DATA-c6af0745-118.zip\n",
      "IHME-GBD_2016_DATA-c6af0745-119.zip\n",
      "IHME-GBD_2016_DATA-c6af0745-12.zip\n",
      "IHME-GBD_2016_DATA-c6af0745-120.zip\n",
      "IHME-GBD_2016_DATA-c6af0745-121.zip\n",
      "IHME-GBD_2016_DATA-c6af0745-122.zip\n",
      "IHME-GBD_2016_DATA-c6af0745-123.zip\n",
      "IHME-GBD_2016_DATA-c6af0745-124.zip\n",
      "IHME-GBD_2016_DATA-c6af0745-125.zip\n",
      "IHME-GBD_2016_DATA-c6af0745-126.zip\n",
      "IHME-GBD_2016_DATA-c6af0745-127.zip\n",
      "IHME-GBD_2016_DATA-c6af0745-128.zip\n",
      "IHME-GBD_2016_DATA-c6af0745-129.zip\n",
      "IHME-GBD_2016_DATA-c6af0745-13.zip\n",
      "IHME-GBD_2016_DATA-c6af0745-130.zip\n",
      "IHME-GBD_2016_DATA-c6af0745-131.zip\n",
      "IHME-GBD_2016_DATA-c6af0745-132.zip\n",
      "IHME-GBD_2016_DATA-c6af0745-133.zip\n",
      "IHME-GBD_2016_DATA-c6af0745-134.zip\n",
      "IHME-GBD_2016_DATA-c6af0745-135.zip\n",
      "IHME-GBD_2016_DATA-c6af0745-136.zip\n",
      "IHME-GBD_2016_DATA-c6af0745-14.zip\n",
      "IHME-GBD_2016_DATA-c6af0745-15.zip\n",
      "IHME-GBD_2016_DATA-c6af0745-16.zip\n",
      "IHME-GBD_2016_DATA-c6af0745-17.zip\n",
      "IHME-GBD_2016_DATA-c6af0745-18.zip\n",
      "IHME-GBD_2016_DATA-c6af0745-19.zip\n",
      "IHME-GBD_2016_DATA-c6af0745-2.zip\n",
      "IHME-GBD_2016_DATA-c6af0745-20.zip\n",
      "IHME-GBD_2016_DATA-c6af0745-21.zip\n",
      "IHME-GBD_2016_DATA-c6af0745-22.zip\n",
      "IHME-GBD_2016_DATA-c6af0745-23.zip\n",
      "IHME-GBD_2016_DATA-c6af0745-24.zip\n",
      "IHME-GBD_2016_DATA-c6af0745-25.zip\n",
      "IHME-GBD_2016_DATA-c6af0745-26.zip\n",
      "IHME-GBD_2016_DATA-c6af0745-27.zip\n",
      "IHME-GBD_2016_DATA-c6af0745-28.zip\n",
      "IHME-GBD_2016_DATA-c6af0745-29.zip\n",
      "IHME-GBD_2016_DATA-c6af0745-3.zip\n",
      "IHME-GBD_2016_DATA-c6af0745-30.zip\n",
      "IHME-GBD_2016_DATA-c6af0745-31.zip\n",
      "IHME-GBD_2016_DATA-c6af0745-32.zip\n",
      "IHME-GBD_2016_DATA-c6af0745-33.zip\n",
      "IHME-GBD_2016_DATA-c6af0745-34.zip\n",
      "IHME-GBD_2016_DATA-c6af0745-35.zip\n",
      "IHME-GBD_2016_DATA-c6af0745-36.zip\n",
      "IHME-GBD_2016_DATA-c6af0745-37.zip\n",
      "IHME-GBD_2016_DATA-c6af0745-38.zip\n",
      "IHME-GBD_2016_DATA-c6af0745-39.zip\n",
      "IHME-GBD_2016_DATA-c6af0745-4.zip\n",
      "IHME-GBD_2016_DATA-c6af0745-40.zip\n",
      "IHME-GBD_2016_DATA-c6af0745-41.zip\n",
      "IHME-GBD_2016_DATA-c6af0745-42.zip\n",
      "IHME-GBD_2016_DATA-c6af0745-43.zip\n",
      "IHME-GBD_2016_DATA-c6af0745-44.zip\n",
      "IHME-GBD_2016_DATA-c6af0745-45.zip\n",
      "IHME-GBD_2016_DATA-c6af0745-46.zip\n",
      "IHME-GBD_2016_DATA-c6af0745-47.zip\n",
      "IHME-GBD_2016_DATA-c6af0745-48.zip\n",
      "IHME-GBD_2016_DATA-c6af0745-49.zip\n",
      "IHME-GBD_2016_DATA-c6af0745-5.zip\n",
      "IHME-GBD_2016_DATA-c6af0745-50.zip\n",
      "IHME-GBD_2016_DATA-c6af0745-51.zip\n",
      "IHME-GBD_2016_DATA-c6af0745-52.zip\n",
      "IHME-GBD_2016_DATA-c6af0745-53.zip\n",
      "IHME-GBD_2016_DATA-c6af0745-54.zip\n",
      "IHME-GBD_2016_DATA-c6af0745-55.zip\n",
      "IHME-GBD_2016_DATA-c6af0745-56.zip\n",
      "IHME-GBD_2016_DATA-c6af0745-57.zip\n",
      "IHME-GBD_2016_DATA-c6af0745-58.zip\n",
      "IHME-GBD_2016_DATA-c6af0745-59.zip\n",
      "IHME-GBD_2016_DATA-c6af0745-6.zip\n",
      "IHME-GBD_2016_DATA-c6af0745-60.zip\n",
      "IHME-GBD_2016_DATA-c6af0745-61.zip\n",
      "IHME-GBD_2016_DATA-c6af0745-62.zip\n",
      "IHME-GBD_2016_DATA-c6af0745-63.zip\n",
      "IHME-GBD_2016_DATA-c6af0745-64.zip\n",
      "IHME-GBD_2016_DATA-c6af0745-65.zip\n",
      "IHME-GBD_2016_DATA-c6af0745-66.zip\n",
      "IHME-GBD_2016_DATA-c6af0745-67.zip\n",
      "IHME-GBD_2016_DATA-c6af0745-68.zip\n",
      "IHME-GBD_2016_DATA-c6af0745-69.zip\n",
      "IHME-GBD_2016_DATA-c6af0745-7.zip\n",
      "IHME-GBD_2016_DATA-c6af0745-70.zip\n",
      "IHME-GBD_2016_DATA-c6af0745-71.zip\n",
      "IHME-GBD_2016_DATA-c6af0745-72.zip\n",
      "IHME-GBD_2016_DATA-c6af0745-73.zip\n",
      "IHME-GBD_2016_DATA-c6af0745-74.zip\n",
      "IHME-GBD_2016_DATA-c6af0745-75.zip\n",
      "IHME-GBD_2016_DATA-c6af0745-76.zip\n",
      "IHME-GBD_2016_DATA-c6af0745-77.zip\n",
      "IHME-GBD_2016_DATA-c6af0745-78.zip\n",
      "IHME-GBD_2016_DATA-c6af0745-79.zip\n",
      "IHME-GBD_2016_DATA-c6af0745-8.zip\n",
      "IHME-GBD_2016_DATA-c6af0745-80.zip\n",
      "IHME-GBD_2016_DATA-c6af0745-81.zip\n",
      "IHME-GBD_2016_DATA-c6af0745-82.zip\n",
      "IHME-GBD_2016_DATA-c6af0745-83.zip\n",
      "IHME-GBD_2016_DATA-c6af0745-84.zip\n",
      "IHME-GBD_2016_DATA-c6af0745-85.zip\n",
      "IHME-GBD_2016_DATA-c6af0745-86.zip\n",
      "IHME-GBD_2016_DATA-c6af0745-87.zip\n",
      "IHME-GBD_2016_DATA-c6af0745-88.zip\n",
      "IHME-GBD_2016_DATA-c6af0745-89.zip\n",
      "IHME-GBD_2016_DATA-c6af0745-9.zip\n",
      "IHME-GBD_2016_DATA-c6af0745-90.zip\n",
      "IHME-GBD_2016_DATA-c6af0745-91.zip\n",
      "IHME-GBD_2016_DATA-c6af0745-92.zip\n",
      "IHME-GBD_2016_DATA-c6af0745-93.zip\n",
      "IHME-GBD_2016_DATA-c6af0745-94.zip\n",
      "IHME-GBD_2016_DATA-c6af0745-95.zip\n",
      "IHME-GBD_2016_DATA-c6af0745-96.zip\n",
      "IHME-GBD_2016_DATA-c6af0745-97.zip\n",
      "IHME-GBD_2016_DATA-c6af0745-98.zip\n",
      "IHME-GBD_2016_DATA-c6af0745-99.zip\n"
     ]
    }
   ],
   "source": [
    "all_data = {}\n",
    "all_measures = []\n",
    "for n in os.listdir(rsd):\n",
    "    print(n)\n",
    "    if not n.endswith('.zip'):\n",
    "        continue\n",
    "    f = osp.join(rsd, n)\n",
    "    zf = ZipFile(f)\n",
    "    fname = osp.splitext(n)[0] + '.csv'\n",
    "    data = pd.read_csv(zf.open(fname))\n",
    "    data = data.drop(['upper', 'lower'], axis=1)\n",
    "    # data = dd.from_pandas(data, npartitions=1)\n",
    "    groups = data.groupby(by=['measure', 'metric'])\n",
    "    for g in groups.groups:\n",
    "        name  = measure[g[0]] + ' ' + metric[g[1]]\n",
    "        concept = to_concept_id(name)\n",
    "        all_measures.append([concept, name])\n",
    "        df = groups.get_group(g)\n",
    "        df = df.rename(columns={'val': concept})\n",
    "        cols = ['location', 'sex', 'age', 'cause', 'rei', 'year', concept]\n",
    "        \n",
    "        # df = dd.from_pandas(df[cols], npartitions=10)\n",
    "        df = df[cols]\n",
    "        if concept in all_data.keys():\n",
    "            all_data[concept] = all_data[concept].append(df, ignore_index=True)\n",
    "        else:\n",
    "            all_data[concept] = df\n",
    "    zf.close()\n",
    "    # break"
   ]
  },
  {
   "cell_type": "code",
   "execution_count": null,
   "metadata": {},
   "outputs": [],
   "source": []
  },
  {
   "cell_type": "code",
   "execution_count": null,
   "metadata": {},
   "outputs": [],
   "source": []
  },
  {
   "cell_type": "code",
   "execution_count": 64,
   "metadata": {},
   "outputs": [
    {
     "data": {
      "text/plain": [
       "dict_keys(['dalys_number', 'dalys_percent', 'dalys_rate', 'ylds_number', 'ylds_percent', 'ylds_rate', 'ylls_number', 'ylls_percent', 'ylls_rate', 'deaths_number', 'deaths_percent', 'deaths_rate'])"
      ]
     },
     "execution_count": 64,
     "metadata": {},
     "output_type": "execute_result"
    }
   ],
   "source": [
    "all_data.keys()"
   ]
  },
  {
   "cell_type": "code",
   "execution_count": 12,
   "metadata": {},
   "outputs": [
    {
     "data": {
      "text/plain": [
       "(5999986, 7)"
      ]
     },
     "execution_count": 12,
     "metadata": {},
     "output_type": "execute_result"
    }
   ],
   "source": [
    "all_data['deaths_percent'].shape"
   ]
  },
  {
   "cell_type": "code",
   "execution_count": null,
   "metadata": {},
   "outputs": [],
   "source": []
  },
  {
   "cell_type": "code",
   "execution_count": null,
   "metadata": {},
   "outputs": [],
   "source": []
  },
  {
   "cell_type": "code",
   "execution_count": 65,
   "metadata": {},
   "outputs": [
    {
     "data": {
      "text/plain": [
       "array([1, 2, 3])"
      ]
     },
     "execution_count": 65,
     "metadata": {},
     "output_type": "execute_result"
    }
   ],
   "source": [
    "all_data['dalys_number'].sex.unique()"
   ]
  },
  {
   "cell_type": "code",
   "execution_count": 66,
   "metadata": {},
   "outputs": [
    {
     "data": {
      "text/plain": [
       "array([22])"
      ]
     },
     "execution_count": 66,
     "metadata": {},
     "output_type": "execute_result"
    }
   ],
   "source": [
    "all_data['ylls_number'].age.unique()"
   ]
  },
  {
   "cell_type": "code",
   "execution_count": 67,
   "metadata": {},
   "outputs": [
    {
     "data": {
      "text/plain": [
       "array([1995, 1990, 2000, 2006, 2016, 2005, 2010])"
      ]
     },
     "execution_count": 67,
     "metadata": {},
     "output_type": "execute_result"
    }
   ],
   "source": [
    "all_data['ylls_number'].year.unique()   ## I have checked in the gbd website, the data indeed is only available for these years."
   ]
  },
  {
   "cell_type": "code",
   "execution_count": 68,
   "metadata": {},
   "outputs": [
    {
     "data": {
      "text/plain": [
       "array([294, 295, 301, 302, 322])"
      ]
     },
     "execution_count": 68,
     "metadata": {},
     "output_type": "execute_result"
    }
   ],
   "source": [
    "all_data['ylls_number'].cause.unique()"
   ]
  },
  {
   "cell_type": "code",
   "execution_count": 69,
   "metadata": {},
   "outputs": [
    {
     "data": {
      "text/plain": [
       "array([173, 174, 175, 176, 177, 181, 182, 183, 184, 185, 187, 188, 189,\n",
       "       190, 178, 179, 180])"
      ]
     },
     "execution_count": 69,
     "metadata": {},
     "output_type": "execute_result"
    }
   ],
   "source": [
    "all_data['ylls_rate'].rei.unique()"
   ]
  },
  {
   "cell_type": "code",
   "execution_count": 16,
   "metadata": {},
   "outputs": [
    {
     "data": {
      "text/plain": [
       "8333333.333333333"
      ]
     },
     "execution_count": 16,
     "metadata": {},
     "output_type": "execute_result"
    }
   ],
   "source": [
    "1000000 * 100 / 12"
   ]
  },
  {
   "cell_type": "code",
   "execution_count": 18,
   "metadata": {},
   "outputs": [
    {
     "data": {
      "text/plain": [
       "0.828912"
      ]
     },
     "execution_count": 18,
     "metadata": {},
     "output_type": "execute_result"
    }
   ],
   "source": [
    "(9162245 - 8333333) / 1000000"
   ]
  },
  {
   "cell_type": "code",
   "execution_count": 40,
   "metadata": {},
   "outputs": [],
   "source": [
    "# df = all_data.pop('deaths_number')\n",
    "df = all_data['ylds_number']"
   ]
  },
  {
   "cell_type": "code",
   "execution_count": 20,
   "metadata": {},
   "outputs": [],
   "source": [
    "# df.to_pickle('deaths_number.pkl')"
   ]
  },
  {
   "cell_type": "code",
   "execution_count": 23,
   "metadata": {},
   "outputs": [],
   "source": [
    "for k in list(all_data.keys()):\n",
    "    df = all_data.pop(k)\n",
    "    df.to_pickle('{}.pkl'.format(k))"
   ]
  },
  {
   "cell_type": "code",
   "execution_count": 24,
   "metadata": {},
   "outputs": [],
   "source": [
    "!open ."
   ]
  },
  {
   "cell_type": "code",
   "execution_count": 31,
   "metadata": {},
   "outputs": [],
   "source": [
    "# df = pd.read_pickle('./ylds_percent.pkl')"
   ]
  },
  {
   "cell_type": "code",
   "execution_count": 41,
   "metadata": {},
   "outputs": [
    {
     "data": {
      "text/plain": [
       "Index(['location', 'sex', 'age', 'cause', 'rei', 'year', 'ylds_number'], dtype='object')"
      ]
     },
     "execution_count": 41,
     "metadata": {},
     "output_type": "execute_result"
    }
   ],
   "source": [
    "df.columns"
   ]
  },
  {
   "cell_type": "code",
   "execution_count": 10,
   "metadata": {},
   "outputs": [],
   "source": [
    "!mkdir -p ../../../ddf--ihme--risk/impairment"
   ]
  },
  {
   "cell_type": "code",
   "execution_count": 14,
   "metadata": {},
   "outputs": [],
   "source": [
    "for k, df in all_data.items():\n",
    "    g = df.groupby(by='rei')\n",
    "    for r in g.groups:\n",
    "        df_ = g.get_group(r)\n",
    "        df_ = df_[df_.sex == 3]\n",
    "        by = ['location', 'sex', 'age', 'cause', f'rei-{r}', 'year']\n",
    "        filename = f'ddf--datapoints--{k}--by--' + '--'.join(by) + '.csv'\n",
    "        path = osp.join('../../../ddf--ihme--risk/impairment', filename)\n",
    "        df_.to_csv(path, index=False)"
   ]
  },
  {
   "cell_type": "code",
   "execution_count": 15,
   "metadata": {},
   "outputs": [
    {
     "name": "stdout",
     "output_type": "stream",
     "text": [
      "1.6G\t../../../ddf--ihme--risk/impairment\r\n"
     ]
    }
   ],
   "source": [
    "!du -sh ../../../ddf--ihme--risk/impairment"
   ]
  },
  {
   "cell_type": "code",
   "execution_count": 20,
   "metadata": {},
   "outputs": [],
   "source": [
    "rei = md['rei']"
   ]
  },
  {
   "cell_type": "code",
   "execution_count": 22,
   "metadata": {},
   "outputs": [
    {
     "data": {
      "text/html": [
       "<div>\n",
       "<style scoped>\n",
       "    .dataframe tbody tr th:only-of-type {\n",
       "        vertical-align: middle;\n",
       "    }\n",
       "\n",
       "    .dataframe tbody tr th {\n",
       "        vertical-align: top;\n",
       "    }\n",
       "\n",
       "    .dataframe thead th {\n",
       "        text-align: right;\n",
       "    }\n",
       "</style>\n",
       "<table border=\"1\" class=\"dataframe\">\n",
       "  <thead>\n",
       "    <tr style=\"text-align: right;\">\n",
       "      <th></th>\n",
       "      <th>rei_id</th>\n",
       "      <th>type</th>\n",
       "      <th>name</th>\n",
       "      <th>short_name</th>\n",
       "      <th>enabled</th>\n",
       "    </tr>\n",
       "  </thead>\n",
       "  <tbody>\n",
       "    <tr>\n",
       "      <th>173</th>\n",
       "      <td>173</td>\n",
       "      <td>etiology</td>\n",
       "      <td>Cholera</td>\n",
       "      <td>Cholera</td>\n",
       "      <td>1</td>\n",
       "    </tr>\n",
       "  </tbody>\n",
       "</table>\n",
       "</div>"
      ],
      "text/plain": [
       "     rei_id      type     name short_name  enabled\n",
       "173     173  etiology  Cholera    Cholera        1"
      ]
     },
     "execution_count": 22,
     "metadata": {},
     "output_type": "execute_result"
    }
   ],
   "source": [
    "rei[rei.name == 'Cholera']"
   ]
  },
  {
   "cell_type": "code",
   "execution_count": 45,
   "metadata": {},
   "outputs": [
    {
     "data": {
      "text/plain": [
       "array(['risk', 'etiology', 'impairment', 'injury n-codes'], dtype=object)"
      ]
     },
     "execution_count": 45,
     "metadata": {},
     "output_type": "execute_result"
    }
   ],
   "source": [
    "rei.type.unique()"
   ]
  },
  {
   "cell_type": "code",
   "execution_count": 62,
   "metadata": {},
   "outputs": [],
   "source": [
    "rei_ent = rei[rei['type'] != 'injury n-codes']"
   ]
  },
  {
   "cell_type": "code",
   "execution_count": 63,
   "metadata": {},
   "outputs": [
    {
     "data": {
      "text/html": [
       "<div>\n",
       "<style scoped>\n",
       "    .dataframe tbody tr th:only-of-type {\n",
       "        vertical-align: middle;\n",
       "    }\n",
       "\n",
       "    .dataframe tbody tr th {\n",
       "        vertical-align: top;\n",
       "    }\n",
       "\n",
       "    .dataframe thead th {\n",
       "        text-align: right;\n",
       "    }\n",
       "</style>\n",
       "<table border=\"1\" class=\"dataframe\">\n",
       "  <thead>\n",
       "    <tr style=\"text-align: right;\">\n",
       "      <th></th>\n",
       "      <th>rei_id</th>\n",
       "      <th>type</th>\n",
       "      <th>name</th>\n",
       "      <th>short_name</th>\n",
       "      <th>enabled</th>\n",
       "    </tr>\n",
       "  </thead>\n",
       "  <tbody>\n",
       "    <tr>\n",
       "      <th>100</th>\n",
       "      <td>100</td>\n",
       "      <td>risk</td>\n",
       "      <td>Secondhand smoke</td>\n",
       "      <td>Secondhand smoke</td>\n",
       "      <td>1</td>\n",
       "    </tr>\n",
       "    <tr>\n",
       "      <th>101</th>\n",
       "      <td>101</td>\n",
       "      <td>risk</td>\n",
       "      <td>Alcohol and drug use</td>\n",
       "      <td>Alcohol &amp; drug use</td>\n",
       "      <td>0</td>\n",
       "    </tr>\n",
       "    <tr>\n",
       "      <th>102</th>\n",
       "      <td>102</td>\n",
       "      <td>risk</td>\n",
       "      <td>Alcohol use</td>\n",
       "      <td>Alcohol use</td>\n",
       "      <td>1</td>\n",
       "    </tr>\n",
       "    <tr>\n",
       "      <th>103</th>\n",
       "      <td>103</td>\n",
       "      <td>risk</td>\n",
       "      <td>Drug use</td>\n",
       "      <td>Drug use</td>\n",
       "      <td>1</td>\n",
       "    </tr>\n",
       "    <tr>\n",
       "      <th>104</th>\n",
       "      <td>104</td>\n",
       "      <td>risk</td>\n",
       "      <td>Metabolic risks</td>\n",
       "      <td>Metabolic</td>\n",
       "      <td>0</td>\n",
       "    </tr>\n",
       "  </tbody>\n",
       "</table>\n",
       "</div>"
      ],
      "text/plain": [
       "     rei_id  type                  name          short_name  enabled\n",
       "100     100  risk      Secondhand smoke    Secondhand smoke        1\n",
       "101     101  risk  Alcohol and drug use  Alcohol & drug use        0\n",
       "102     102  risk           Alcohol use         Alcohol use        1\n",
       "103     103  risk              Drug use            Drug use        1\n",
       "104     104  risk       Metabolic risks           Metabolic        0"
      ]
     },
     "execution_count": 63,
     "metadata": {},
     "output_type": "execute_result"
    }
   ],
   "source": [
    "rei_ent.head()"
   ]
  },
  {
   "cell_type": "code",
   "execution_count": 65,
   "metadata": {},
   "outputs": [],
   "source": [
    "rei_ent = rei_ent[['rei_id', 'type', 'name', 'short_name']]\n",
    "rei_ent.columns = ['rei', 'type', 'name', 'short_name']"
   ]
  },
  {
   "cell_type": "code",
   "execution_count": 66,
   "metadata": {},
   "outputs": [],
   "source": [
    "rei_ent.to_csv('../../ddf--entities--rei.csv', index=False)"
   ]
  },
  {
   "cell_type": "code",
   "execution_count": null,
   "metadata": {},
   "outputs": [],
   "source": []
  }
 ],
 "metadata": {
  "kernelspec": {
   "display_name": "Python 3",
   "language": "python",
   "name": "python3"
  },
  "language_info": {
   "codemirror_mode": {
    "name": "ipython",
    "version": 3
   },
   "file_extension": ".py",
   "mimetype": "text/x-python",
   "name": "python",
   "nbconvert_exporter": "python",
   "pygments_lexer": "ipython3",
   "version": "3.6.2"
  }
 },
 "nbformat": 4,
 "nbformat_minor": 2
}
